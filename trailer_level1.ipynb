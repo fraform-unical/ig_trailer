{
  "nbformat": 4,
  "nbformat_minor": 0,
  "metadata": {
    "colab": {
      "provenance": [],
      "collapsed_sections": [],
      "toc_visible": true
    },
    "kernelspec": {
      "name": "python3",
      "display_name": "Python 3"
    },
    "language_info": {
      "name": "python"
    }
  },
  "cells": [
    {
      "cell_type": "markdown",
      "metadata": {
        "id": "GlNVYJd7kYzi"
      },
      "source": [
        "![level1.png](data:image/png;base64,iVBORw0KGgoAAAANSUhEUgAAAyAAAAC0CAYAAABsb0igAAAABmJLR0QAAAAAAAD5Q7t/AAAACXBIWXMAAC4jAAAuIwF4pT92AAAAB3RJTUUH5QgKDxACegC/dAAABK9JREFUeNrt3EGOolAUQNFHh5CIu3ENboCZK3It1MgVuAVN3AuaOKGHnU5jNaUCHzwn6UlV2oJXxsqNvp9FRBsAAAAj+GUEAACAAAEAAAQIAACAAAEAAAQIAACAAAEAAAQIAAAgQAAAAAQIAAAgQAAAAAQIAAAgQAAAAAECAAAgQAAAAAECAAAgQAAAAAECAAAIEAAAAAECAAAIEAAAAAECAAAIEAAAQIAAAAAIEAAAQIAAAAAIEAAAQIAAAAACBAAAQIAAAAACBAAAQIAAAAACBAAAQIAAAAACBAAAECAAAAACBAAAECAAAAACBAAAECAAAIAAAQAAECAAAIAAAQAAECAAAIAAAQAABAgAAIAAAQAABAgAAIAAAQAABAgAACBAAAAABAgAACBAAAAABAgAACBAAAAAAQIAACBAAAAAAQIAACBAAAAAAQIAACBAAAAAAQIAAAgQAAAAAQIAAAgQAAAAAQIAAAgQAABAgAAAAAgQAABAgAAAAAgQAABAgADDatu217+maQwLz+MRNE3T+34ABAgAAIAAAQAABAgAAIAAAQAAxpYbAQAMxyI5wN+8AwIAAAgQAABAgAAAAAgQAAAgfZbQAWBAX19f/3ytqqooisJwgI+URYTjOWDh+p7Cc71eY71eGxiexwNrmibKsuz3hzrL/PKBRfERLAAAQIAAAAACBAAAQIAAAADpcwoWkKy+S8fv8Myi75hL0WMsLac+bwCWwTsgAACAAAEAAAQIAACAAAEAANJnCR2Yjfv9HofD4aXHqKoqiqIwTPMGYCJZRLTGAMs25mlNqV/fO0+Tct3Lve6hjXGqGUCqfAQLAAAQIAAAgAABAAB4miV0YD4vWHkedV2//BiYNwDTsYQOH2ApS+ijv0B++DL3J897aJbQgU/mI1gAAIAAAQAABAgAAIAAAQAA0ud4EmA2Ulsu7loO7louLsuyc4H60XJxKsvWc1jmBmB+vAMCAAAIEAAAQIAAAAAIEAAAIH2W0IE/Lwh5HnVdv/1xL5dL7Pf7h98/nU6dX99sNqNcX0TEbrd7y+Ocz+dYrVb/vZeI+NG9dM3odrs9dY1LmvdPnsdD/szvdF1Lnucv/f8p7wfgVVlEtMYAy9b3VKWhHI/H2G63SV/3oxOpUvkdDH19c51316ljU85wzLlOdT8Ar/IRLAAAQIAAAAACBAAAQIAAAADps4QOAACMxjsgAACAAAEAAAQIAACAAAEAAAQIAACAAAEAAAQIAAAgQAAAAAQIAAAgQAAAAAQIAAAgQAAAAAECAAAgQAAAAAECAAAgQAAAAAECAAAIEAAAAAECAAAIEAAAAAECAAAIEAAAQIAAAAAIEAAAQIAAAAAIEAAAQIAAAAACBAAAQIAAAAACBAAAQIAAAAACBAAAQIAAAAACBAAAECAAAAACBAAAECAAAAACBAAAECAAAIAAAQAAECAAAIAAAQAAECAAAIAAAQAABAgAAIAAAQAABAgAAIAAAQAABAgAACBAAAAABAgAACBAAAAABAgAACBAAAAAAQIAACBAAAAAAQIAACBAAAAAAQIAACBAAAAAAQIAAAgQAAAAAQIAAAgQAAAAAQIAAEziN76SMZe5ddrDAAAAAElFTkSuQmCC)"
      ]
    },
    {
      "cell_type": "markdown",
      "metadata": {
        "id": "lmyT4pTFAKGs"
      },
      "source": [
        "# Strutture di controllo\n",
        "\n",
        "Finora i nostri programmi si sono basati su una serie di istruzioni che vengono eseguite una dopo l'altra. Ciò limita notevolmente i programmi che possiamo eseguire, poiché non abbiamo alcuno strumento che ci consente di controllare il __flusso di esecuzione__ (_flusso di controllo_) del nostro programma. Ad esempio vorremmo essere in grado di saltare dall'`istruzione1` all'`istruzione3`  o magari ripetere l'`istruzione1` x volte e poi passare all'istruzione successiva.\n",
        "\n",
        "```\n",
        "  istruzione1\n",
        "       |\n",
        "  istruzione2\n",
        "       |\n",
        "  istruzione3\n",
        "```\n",
        "\n",
        "Vedremo ora una serie di istruzioni speciali che ci permetteranno di fare proprio questo.\n"
      ]
    },
    {
      "cell_type": "markdown",
      "metadata": {
        "id": "nnxaaNYqdZMD"
      },
      "source": [
        "## `if, else, elif`\n",
        "Immaginiamo di voler scrivere un semplice programma che calcola la divisione tra due numeri. Poiché sappiamo che il risultato di una divisione per 0 non  esiste, vorremo evitare di calcolare la nostra divisione nel caso in cui il divisore sia pari a 0 e generare inutili errori."
      ]
    },
    {
      "cell_type": "code",
      "metadata": {
        "id": "IQ5NwsiqBJQH"
      },
      "source": [
        "dividendo = int(input(\"Inserisci il dividendo: \"))\n",
        "divisore = 0\n",
        "print(dividendo/divisore)"
      ],
      "execution_count": null,
      "outputs": []
    },
    {
      "cell_type": "markdown",
      "metadata": {
        "id": "-8ALyd_vBe8A"
      },
      "source": [
        "Cosa possiamo fare per evitare che ciò accada? Semplice, dobbiamo verificare che la __condizione__ \"il divisore sia diverso da zero\" __sia vera__ per poter effettuare correttamente la divisione (`if`) o __altrimenti__ (`else`) avvisare l'utente dell'errore:\n",
        "\n",
        "```\n",
        "          divisore != 0 ?\n",
        "            /      \\\n",
        "        si /        \\ no\n",
        "          /          \\\n",
        "  esegui calcolo    stampa messaggio di errore\n",
        "  \n",
        "```"
      ]
    },
    {
      "cell_type": "markdown",
      "source": [
        "In Python le istruzioni condizionali `if/elif/else` (se/altrimenti-se/altrimenti) permettono di controllare il flusso di esecuzione del nostro codice.\n",
        "In particolare possiamo \n",
        "\n",
        "1. eseguire determinate istruzioni solo se una (o più) condizione e’ soddisfatta\n",
        "\n",
        "```\n",
        "if CONDIZIONE:\n",
        "  istruzione1 (per condizione vera)\n",
        "\n",
        "istruzioneN\n",
        "```\n",
        "\n",
        "dove `CONDIZIONE` è un'espressione booleana.\n",
        "\n",
        "Da un punto di vista grafico questo equivale a\n",
        "\n",
        "```\n",
        "        CONDIZIONE vera?\n",
        "          /     |\n",
        "      si /      | \n",
        "        /       |\n",
        "  istruzione1   |\n",
        "        \\      /\n",
        "         \\    /\n",
        "      istruzioneN\n",
        "```\n",
        "\n",
        "2. gestire ***esplicitamente*** e ***separatamente*** i due casi \"condizione soddisfatta\" (`istruzione1`) o \"condizione non soddisfatta\" (`istruzione2`):\n",
        "\n",
        "```\n",
        "if CONDIZIONE:\n",
        "  istruzione1 (per condizione vera)\n",
        "else:\n",
        "  istruzione2 (per condizione falsa)\n",
        "\n",
        "istruzioneN\n",
        "```\n",
        "\n",
        "che graficamente possiamo rappresentare come\n",
        "\n",
        "```\n",
        "       CONDIZIONE vera?\n",
        "          /     \\\n",
        "      si /       \\ no\n",
        "        /         \\\n",
        "  istruzione1   istruzione2\n",
        "        \\          /\n",
        "         \\        /\n",
        "         istruzioneN\n",
        "```\n",
        "\n",
        "3. gestire esplicitamente e separatamente `n` casi diversi:\n",
        "\n",
        "```\n",
        "if CONDIZIONE1:\n",
        "  istruzione1 (per condizione1 vera)\n",
        "elif CONDIZONE2:\n",
        "  istruzione2 (per condizione2 vera e prima falsa)\n",
        "elif CONDIZONE3:\n",
        "  istruzione3 (per condizione3 vera e prima e seconda falsa)\n",
        "else\n",
        "  istruzione4 per nessuna condizione vera\n",
        "\n",
        "istruzioneN\n",
        "```\n",
        "\n",
        "```\n",
        "       CONDIZIONE1 vera?\n",
        "          /     \\\n",
        "      si /       \\ no\n",
        "        /         \\\n",
        "  istruzione1   CONDIZIONE2 vera?\n",
        "       |            /     \\\n",
        "       |        si /       \\ no\n",
        "      ...         /         \\\n",
        "             istruzione2   CONDIZIONE3 vera?\n",
        "                 |            /     \\\n",
        "                 |        si /       \\ no\n",
        "                ...         /         \\\n",
        "                    istruzione3    istruzione4\n",
        "                        |               |\n",
        "                        |               |\n",
        "\n",
        "             ......\n",
        "\n",
        "               |\n",
        "               |\n",
        "          istruzioneN\n",
        "                  \n",
        "```"
      ],
      "metadata": {
        "id": "rBj01ee6EDw2"
      }
    },
    {
      "cell_type": "markdown",
      "source": [
        "Come è possibile vedere l'if, gli elif e l'else formano una \"catena\" e, cosa più importante, sono mutualmente esclusivi, solo uno tra loro viene eseguito. Da un punto di vista sintattico Python usa l’indentazione per definire quali istruzioni fanno parte del blocco if e quali invece afferiscono ai blocchi elif o else.\n",
        "\n",
        "Inoltre è importante notare che la __condizione__ che andiamo a verificare con l'istruzione `if` (e `elif`) è un'__espressione booleana__, per cui è possibile che questa espressione sia composta da più termini (si ripensi agli operatori booleani visti in precedenza)."
      ],
      "metadata": {
        "id": "ibMKWLmCnM2C"
      }
    },
    {
      "cell_type": "markdown",
      "metadata": {
        "id": "16lqfiTrHct9"
      },
      "source": [
        "Ad esempio se volessimo verificare che un numero sia __contemporaneamente__ positivo e minore di 5, potremmo scrivere:\n",
        "```\n",
        "num = int(input(\"inserisci un numero: \"))\n",
        "if num >= 0 and num < 5:\n",
        "  print(\"numero ok\")\n",
        "else:\n",
        "  print(\"erorre\")\n",
        "  \n",
        "print(\"fine\")\n",
        "```"
      ]
    },
    {
      "cell_type": "code",
      "metadata": {
        "id": "5NNY8gk40GkT"
      },
      "source": [
        "num = 5\n",
        "if num >= 0 and num < 5:\n",
        "    print(\"ok\")\n",
        "print(\"fine\")"
      ],
      "execution_count": null,
      "outputs": []
    },
    {
      "cell_type": "markdown",
      "source": [
        "Ma torniamo al nostro esempio. Abbiamo ora a disposizione il costrutto sintattico per poter scrivere il nostro programma in modo che effettui il calcolo della divisione solo nel caso in cui il divisore sia diverso da 0."
      ],
      "metadata": {
        "id": "hGPGdhDMo1Wy"
      }
    },
    {
      "cell_type": "code",
      "metadata": {
        "id": "2MMcu0LzFM4K"
      },
      "source": [
        "dividendo = int(input(\"Inserisci il dividendo: \"))\n",
        "divisore = int(input(\"Inserisci il divisore: \"))\n",
        "\n",
        "\n",
        "  \n",
        "print(\"fine\")"
      ],
      "execution_count": null,
      "outputs": []
    },
    {
      "cell_type": "markdown",
      "metadata": {
        "id": "oJ0Og9WVGbac"
      },
      "source": [
        "### Esercizio\n",
        "\n",
        "__Scrivere un programma che calcola il valore assoluto di un numero letto da tastiera\"__\n"
      ]
    },
    {
      "cell_type": "code",
      "metadata": {
        "id": "xMQ51vRPK1Yj"
      },
      "source": [],
      "execution_count": null,
      "outputs": []
    },
    {
      "cell_type": "markdown",
      "source": [
        "### Esercizio\n",
        "**Scrivere un programma che stampa True se il numero letto da tastiera è pari, False altrimenti.**\n",
        "\n",
        "_Domanda: come faccio a stabilire se un numero è pari?_"
      ],
      "metadata": {
        "id": "QTgq0E4KLe7I"
      }
    },
    {
      "cell_type": "code",
      "source": [],
      "metadata": {
        "id": "ftlvgZWuR9JT"
      },
      "execution_count": null,
      "outputs": []
    },
    {
      "cell_type": "markdown",
      "metadata": {
        "id": "aw20txt40Evj"
      },
      "source": [
        "Fino ad ora abbiamo immaginato che il nostro programma possa seguire al massimo due strade, ovver quella indicata dal ramo `if` e quella indicata, eventualmente, dal ramo `else`. Nella realtà purtroppo le cose non sono quasi mai così semplici, e anzi le strade da seguire possono essere più di due e comunque più intricate. \n",
        "\n",
        "Ad esempio, consideriamo il (triste) caso della valutazione dell'esito di un esame, in cui il nostro programma ci dica, in base al voto ottenuto, che l'esame è stato \"NON SUPERATO\" (voto < 15), \"SUPERATO CON RISERVA\" (voto >= 15 e < 18), o \"SUPERATO\" (voto >= 18).\n",
        "\n",
        "```\n",
        "                        voto esame\n",
        "                       /    |    \\\n",
        "                      /     |     \\\n",
        "                    < 15   >= 15   >= 18\n",
        "                    /       e       \\\n",
        "          ON SUPERATO      < 18      SUPERATO\n",
        "                            |\n",
        "                    SUPERATO con rieserva\n",
        "```\n",
        "\n",
        "Facendo uso delle conoscenze fin qui acquisite potremmo scrivere:"
      ]
    },
    {
      "cell_type": "code",
      "metadata": {
        "id": "iU-vEuOP4kLj"
      },
      "source": [
        "voto = int(input(\"Inserisci il voto dell'esame: \"))\n",
        "\n",
        "if voto < 15:\n",
        "    print(\"NON SUPERATO\")\n",
        "if voto >= 15 and voto < 18:\n",
        "    print(\"SUPERATO CON RISERVA\")\n",
        "if voto >= 18:\n",
        "  print(\"SUPERATO\")\n",
        "  \n",
        "print(\"fine\")"
      ],
      "execution_count": null,
      "outputs": []
    },
    {
      "cell_type": "markdown",
      "source": [
        "che possiamo rappresentare graficamente attraverso il seguente diagramma\n",
        "\n",
        "```\n",
        "                      voto < 15 ?\n",
        "                        /  |\n",
        "                    si /   |\n",
        "                      /    |\n",
        "          \"NON SUPERATO\"   |\n",
        "                    |     /\n",
        "                     \\   /\n",
        "              voto > 15 e voto <= 18?\n",
        "                        /  |\n",
        "                    si /   |\n",
        "                      /    |\n",
        "      \"SUP CON RISERVA\"    |\n",
        "                    |     /\n",
        "                     \\   /\n",
        "                   voto > 18?\n",
        "                      /  |\n",
        "                  si /   |\n",
        "                    /    |\n",
        "           \"SUPERATO\"    |\n",
        "                   |    /\n",
        "                    \\  /\n",
        "                    fine\n",
        "```"
      ],
      "metadata": {
        "id": "owinZg4x_0Nu"
      }
    },
    {
      "cell_type": "markdown",
      "metadata": {
        "id": "F7I5QCZ14tke"
      },
      "source": [
        "__In questo caso specifico__ il codice potrebbe anche andare bene, in quanto all'interno dei vari rami `if` non eseguiamo istruzioni che modificano il valore di variabili usate all'interno degli altri `if`. __Semanticamente__ il codice è corretto, __sintatticamente__ si presta però a potenziali errori. Considerando il seguente frammento di codice, quale sarebbe l'output prodotto?"
      ]
    },
    {
      "cell_type": "code",
      "metadata": {
        "id": "rkX-Do-h5UuO"
      },
      "source": [
        "a = 5\n",
        "if a < 10:\n",
        "  print(a)\n",
        "  a = 10\n",
        "if a >= 10:\n",
        "  print(a)\n",
        "  a = 5\n",
        "if a == 5:\n",
        "  print(a)\n",
        "print(\"fine\")"
      ],
      "execution_count": null,
      "outputs": []
    },
    {
      "cell_type": "markdown",
      "metadata": {
        "id": "EhVyB4jL6FZa"
      },
      "source": [
        "Tornando al nostro caso della valutazione dell'esito di un esame. Potremmo scrivere diversamente le nostre condizioni, tentando di \"incanalare\" meglio il flusso di esecuzione del nostro programma:"
      ]
    },
    {
      "cell_type": "code",
      "metadata": {
        "id": "J5p3ZfoW2OcJ"
      },
      "source": [
        "voto = int(input(\"Inserisci il voto dell'esame: \"))\n",
        "if voto < 15:\n",
        "  print(\"NON SUPERATO\")\n",
        "else:\n",
        "  if voto < 18:\n",
        "    print(\"SUPERATO CON RISERVA\")\n",
        "  else:\n",
        "    print(\"NON SUPERATO\")"
      ],
      "execution_count": null,
      "outputs": []
    },
    {
      "cell_type": "markdown",
      "metadata": {
        "id": "3Ld-EpII2vbP"
      },
      "source": [
        "Come possiamo osservare, abbiamo \"annidato\" (nested-if) all'interno del ramo `else` le altre due condizioni relative ad un voto inferiore al 18, ovvero abbiamo __`innestato`__ una condizione all'interno di un'altra. Nel caso in esame è come se avessimo detto \"Se il voto è < 15 allora l'esame non è superato, altrimenti abbiamo 2 sottocasi da considerare, ovvero se...\". Ci siamo sicuramente avvicinati di più alla scrittura di un codice che risponda bene al nostro quesito, ma non siamo ancora pienamente soddisfatti. \n",
        "\n",
        "Esiste per caso un modo per distinguere meglio e nettamente le tre condizioni? Parafrasando la traccia del nostro esercizio, potremmo riformulare la risoluzione del nostro problema dicendo una cosa del genere: _`Se` il voto dell'esame è < 15 l'esame è NON SUPERATO; `altrimenti se` il voto dell'esame è < 18 l'esame è SUPERATO CON RISERVA; `altrimenti` l'esame è SUPERATO_. \n",
        "\n",
        "Abbiamo detto che in Python quell'`altrimenti se` si traduce nella parola chiave `elif` che ci permette di rimanere, per così dire, sullo stesso livello di profondità di esecuzione del nostro codice. Riscriviamo quindi il nostro programma facendo uso di questa ulteriore istruzione"
      ]
    },
    {
      "cell_type": "code",
      "metadata": {
        "id": "yMQQwlcb8RfL"
      },
      "source": [
        "voto = int(input(\"Inserisci il voto dell'esame: \"))\n",
        "if voto < 15:\n",
        "  print(\"NON SUPERATO\")\n",
        "elif voto < 18:\n",
        "  print(\"SUPERATO CON RISERVA\")\n",
        "else:\n",
        "  print(\"SUPERATO\")"
      ],
      "execution_count": null,
      "outputs": []
    },
    {
      "cell_type": "markdown",
      "metadata": {
        "id": "avx3Yboi-fhG"
      },
      "source": [
        "### Esercizio\n",
        "\n",
        "__Scrivere un programma che, letto un numero da input, ci dica se questo numero è positivo, pari a 0, o è negativo.__ \n",
        "\n",
        "_(Usare sia gli if innestati che l'istruzione elif)_"
      ]
    },
    {
      "cell_type": "code",
      "metadata": {
        "id": "QBfFp0YC-yNp"
      },
      "source": [],
      "execution_count": null,
      "outputs": []
    },
    {
      "cell_type": "markdown",
      "source": [
        "## `while`"
      ],
      "metadata": {
        "id": "-LBBSKMeEP80"
      }
    },
    {
      "cell_type": "markdown",
      "metadata": {
        "id": "w5FdgdVXK-RQ"
      },
      "source": [
        "Torniamo al nostro esempio della divisione di due numeri. \n",
        "\n",
        "In precedenza abbiamo inserito delle istruzioni che permettevano di mostrare un messaggio di errore all'utente sull'impossibilità di effettuare la divisione di un numero per 0, dopodichè il programma terminava.\n",
        "\n",
        "Esiste per caso un modo che ci permette di mostare il messaggio di errore e non terminare il programma, ma invece chiedere __ripetutamente__ all'utente di inserire un numero `finché` questo non sia effettivamente diverso da zero?\n",
        "\n",
        "Da un punto di vista logico vorremmo in sostanza ripetere l'esecuzione di una o più istruzioni __fino a quando__ (__finchè__) è soddisfatta la condizione che stiamo cercando.\n",
        "\n",
        "```\n",
        "        istruzione1\n",
        "            | \n",
        "        condizione vera? <------|\n",
        "        |  \\                    |\n",
        "    no  |   \\ si                |\n",
        "        |    \\                  |\n",
        "        |     \\-> istruzione2 __|\n",
        "        |\n",
        "    istruzione3\n",
        "```\n",
        "\n",
        "\n",
        "\n",
        "Nel nostro caso vogliamo che l'utente inserisca un numero diverso da 0 da assegnare al divisore.\n",
        "\n",
        "In Python ciò si traduce nell'uso dell'istruzione __`while`__. Con riferimento al diagramma di sopra, si ha che la sintassi di questa istruzione è:\n",
        "\n",
        "```\n",
        "istruzione1\n",
        "\n",
        "while CONDIZIONE:\n",
        "  istruzione2\n",
        "\n",
        "istruzione3\n",
        "```\n",
        "\n",
        "Così come visto per l'if, anche in questo caso Python usa l’indentazione per definire quali istruzioni fanno parte del blocco while e quindi che si ripeteranno fin tanto che la condizione (espressione booleana) è vera.\n",
        "\n",
        "Modifichiamo quindi il codice del nostro programma facendo uso dell'istruzione while"
      ]
    },
    {
      "cell_type": "code",
      "metadata": {
        "id": "n5AWaiNYP9zV"
      },
      "source": [
        "dividendo = int(input(\"Inserisci il dividendo: \"))\n",
        "divisore = int(input(\"Inserisci il divisore: \"))\n",
        "  \n",
        "\n",
        "print(dividendo/divisore)\n"
      ],
      "execution_count": null,
      "outputs": []
    },
    {
      "cell_type": "markdown",
      "source": [
        "È opportuno notare come sia necessario che almeno una delle istruzioni contenute all'interno del blocco while vada ad agire sulla nostra condizione in modo da renderla prima o poi falsa. In caso contrario entreremo in un ciclo infinito!!\n",
        "\n",
        "Ad esempio\n",
        "\n",
        "```\n",
        "x = 5\n",
        "while x > 3:\n",
        "  print(x)\n",
        "\n",
        "print(\"fine\")\n",
        "```\n",
        "\n",
        "in questo caso poichè il valore della variabile `x` non cambia mai la condizione sarà `sempre` vera e non usciremo mai dal nostro ciclo..."
      ],
      "metadata": {
        "id": "SZLdjQr9wKVy"
      }
    },
    {
      "cell_type": "markdown",
      "metadata": {
        "id": "DRZh0gRGcS7l"
      },
      "source": [
        "### Esercizio\n",
        "\n",
        "__Creare un programma che stampa tutti i numeri da 0 a un numero inserito dall'utente (numero incluso). Se il numero inserito è negativo chiedere all'utente di inserire un numero positivo.__"
      ]
    },
    {
      "cell_type": "code",
      "metadata": {
        "id": "3Yb17i2tdgva"
      },
      "source": [],
      "execution_count": null,
      "outputs": []
    },
    {
      "cell_type": "markdown",
      "source": [
        "## `for`"
      ],
      "metadata": {
        "id": "7GYP6XKMEWZ9"
      }
    },
    {
      "cell_type": "markdown",
      "metadata": {
        "id": "gqDA7wjIdvKo"
      },
      "source": [
        "In altri linguaggi di programmazione come C o Java, esiste un'altra istruzione che permette di svolgere lo stesso compito del `while`, ovvero ripetere una o più istruzioni finchè una condizione risulta vera. \n",
        "\n",
        "Questa istruzione è denominata `for`, ma in Python il suo comportamento è diverso e in particolare essa permette di eseguire delle istruzioni che saranno eseguite una ed una sola volta ***per ciascun elemento di una sequenza di elementi***.\n",
        "\n",
        "Da un punto di vista sintattico l'istruzione `for` sarà scritta nel seguente modo:\n",
        "\n",
        "```\n",
        "for ELEMENTO in SEQUENZA:\n",
        "  istruzione che opera su ELEMENTO\n",
        "```\n",
        "\n",
        "dove `ELEMENTO` è una variabile che rappresenterà il generico elemento della `SEQUENZA` man mano che scorriamo su di essa.\n",
        "\n",
        "Possiamo quindi \"leggere\" questa istruzione come: per ogni `ELEMENTO` della `SEQUENZA`, esegui `istruzione`."
      ]
    },
    {
      "cell_type": "markdown",
      "source": [
        "### Esempio\n",
        "\n",
        "Supponiamo di voler iterare su una serie di numeri per stampare il valore di ciascuno di questi elementi. Per prima cosa dobbiamo capire come generare questa sequenza e iterare poi su di essa. \n",
        "\n",
        "In Python per generare una serie di numeri possiamo utilizzare la funzione `range()` che fa sempre parte della libreria standard del linguaggio. \n",
        "\n",
        "È possibile richiamare la funzione `range` in due modi:\n",
        "1. range([START,] STOP)\n",
        "```\n",
        "range(0, 4) --> [0, 1, 2, 3]\n",
        "range(4) --> [0, 1, 2, 3]\n",
        "```\n",
        "\n",
        "dove START è incluso, mentre STOP è escluso."
      ],
      "metadata": {
        "id": "9tmtyM5l0SyS"
      }
    },
    {
      "cell_type": "code",
      "metadata": {
        "id": "OsDIrGJyfGAQ"
      },
      "source": [
        "for i in range(4):\n",
        "  print(i)"
      ],
      "execution_count": null,
      "outputs": []
    },
    {
      "cell_type": "markdown",
      "metadata": {
        "id": "m7Uf5tC7fKoA"
      },
      "source": [
        "\n",
        "2. range(START, STOP, STEP)\n",
        "\n",
        "   dove `STEP` rappresenta il passo di incremento (o decremento) per generare il successivo elemento della sequenza.\n",
        "```\n",
        "range(1, 4, 1) -> [1, 2, 3, 4]\n",
        "```"
      ]
    },
    {
      "cell_type": "markdown",
      "source": [
        "proviamo con `STEP` pari a 4"
      ],
      "metadata": {
        "id": "1Z7A1e7-1X93"
      }
    },
    {
      "cell_type": "code",
      "metadata": {
        "id": "uZ_XyFARfbeG"
      },
      "source": [
        "for i in range(1,10,4):\n",
        "  print(i)"
      ],
      "execution_count": null,
      "outputs": []
    },
    {
      "cell_type": "markdown",
      "source": [
        "# Esercizi"
      ],
      "metadata": {
        "id": "0uFvM9mwFDEV"
      }
    },
    {
      "cell_type": "markdown",
      "source": [
        "## Esercizio 0\n"
      ],
      "metadata": {
        "id": "XvJizVZb3m0d"
      }
    },
    {
      "cell_type": "markdown",
      "source": [
        "**Scrivere un programma per il calcolo degli zeri di una generica equazione quadratica:** \n",
        "\n",
        "$$ax^2 +bx + c = 0$$"
      ],
      "metadata": {
        "id": "Yd9VIx8CFcvt"
      }
    },
    {
      "cell_type": "code",
      "source": [],
      "metadata": {
        "id": "YrkNzEm6EnVV"
      },
      "execution_count": null,
      "outputs": []
    },
    {
      "cell_type": "markdown",
      "metadata": {
        "id": "4hsCcpW7fimO"
      },
      "source": [
        "## Esercizio 1"
      ]
    },
    {
      "cell_type": "markdown",
      "source": [
        "__Creare un programma che stampa tutti i numeri da 0 a un numero inserito dall'utente (numero incluso). Se il numero inserito è negativo chiedere all'utente di inserire un numero positivo.__"
      ],
      "metadata": {
        "id": "5zxsMu9ZFaee"
      }
    },
    {
      "cell_type": "code",
      "metadata": {
        "id": "I_qiDy6uf8ZD"
      },
      "source": [],
      "execution_count": null,
      "outputs": []
    },
    {
      "cell_type": "markdown",
      "metadata": {
        "id": "ZvXnYcnS3drd"
      },
      "source": [
        "## Esercizio 2"
      ]
    },
    {
      "cell_type": "markdown",
      "source": [
        "__Scrivere un programma che calcola la sommatoria dei primi `x` numeri__ _(con `x` letto da input)_\n",
        "\n",
        "_scrivere il codice facendo uso sia dell'istruzione while che dell'istruzione for_"
      ],
      "metadata": {
        "id": "5UZVJYOpFXLF"
      }
    },
    {
      "cell_type": "code",
      "source": [],
      "metadata": {
        "id": "-X903Obu4WHl"
      },
      "execution_count": null,
      "outputs": []
    },
    {
      "cell_type": "markdown",
      "source": [
        "## Esercizio 3"
      ],
      "metadata": {
        "id": "Y3-bZwpk4MiF"
      }
    },
    {
      "cell_type": "markdown",
      "source": [
        "\n",
        "\n",
        "**Scrivere un programma che calcola la produttoria dei numeri dispari da 2 a 103.**\n",
        "\n",
        "_scrivere il codice facendo uso sia dell'istruzione while che dell'istruzione for_"
      ],
      "metadata": {
        "id": "qo3tSYthFTEc"
      }
    },
    {
      "cell_type": "code",
      "source": [],
      "metadata": {
        "id": "U5TjAOwv41Os"
      },
      "execution_count": null,
      "outputs": []
    },
    {
      "cell_type": "markdown",
      "source": [
        "## Esercizio 4"
      ],
      "metadata": {
        "id": "h5Do3f1xMkJj"
      }
    },
    {
      "cell_type": "markdown",
      "source": [
        "Scrivere un programma che legge un numero `x` da tastiera. Se `x` è negativo allora il programma calcolerà la radice quadrata del valore assoluto; se positivo il programma calcolerà:\n",
        "* il fattoriale di `x` nel caso in cui `x` sia divisible per 3\n",
        "* il cubo di `x` altrimenti\n",
        "\n",
        "__$$n!:=\\prod _{{k=1}}^{n}k=1\\cdot 2\\cdot 3\\cdots (n-1)\\cdot n$$__"
      ],
      "metadata": {
        "id": "Dxz9urxYMnwb"
      }
    },
    {
      "cell_type": "code",
      "source": [],
      "metadata": {
        "id": "Y5FhVb6-OHo7"
      },
      "execution_count": null,
      "outputs": []
    },
    {
      "cell_type": "markdown",
      "metadata": {
        "id": "EqLxGrDbpIWq"
      },
      "source": [
        "#![level1_end.png](data:image/png;base64,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)"
      ]
    }
  ]
}