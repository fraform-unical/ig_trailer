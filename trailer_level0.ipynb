{
  "nbformat": 4,
  "nbformat_minor": 0,
  "metadata": {
    "colab": {
      "provenance": [],
      "collapsed_sections": [],
      "toc_visible": true
    },
    "kernelspec": {
      "name": "python3",
      "display_name": "Python 3"
    },
    "language_info": {
      "name": "python"
    }
  },
  "cells": [
    {
      "cell_type": "markdown",
      "metadata": {
        "id": "GlNVYJd7kYzi"
      },
      "source": [
        "![press_start.png](data:image/png;base64,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)"
      ]
    },
    {
      "cell_type": "markdown",
      "metadata": {
        "id": "N6Kox7RIqjUn"
      },
      "source": [
        "# Che cos'è la programmazione?\n",
        "Un programma per computer è una serie (sequenza) di istruzioni che dicono alla macchina cosa fare. Le macchine non capiscono la nostra lingua, quindi dobbiamo imparare una lingua per poter comunicare con loro e dare loro ordini. Esistono moltissimi linguaggi di programmazione oggi, e ogni linguaggio viene utilizzato per scopo ben preciso. Ad esempio, se volessimo creare una pagina web potremmo usare HTML, CSS e JavaScript, se volessimo fare un programma per interrogare un database potremmo usare SQL.\n",
        "\n",
        "\n",
        "Nel nostro caso vedremo qualche accenno di Python."
      ]
    },
    {
      "cell_type": "markdown",
      "metadata": {
        "id": "znxm8v_pOEp7"
      },
      "source": [
        "## Python\n",
        "Python è un linguaggio utilizzato per molte cose: dal fare calcoli scientifici alla programmazione web, passando per la robotica, la sicurezza informatica, il machine learning, la data science, la fisica e molte altre cose. \n",
        "\n",
        "Python è un linguaggio di programmazione potente e facile da imparare. Ha *strutture dati* efficienti di alto livello e un approccio semplice ma efficace alla programmazione orientata agli oggetti. L'elegante sintassi, insieme alla sua natura interpretata, lo rendono un linguaggio ideale per lo scripting e lo sviluppo rapido di applicazioni in molte aree sulla maggior parte delle piattaforme.\n",
        "\n",
        "L'***interprete*** Python e l'ampia libreria standard sono disponibili gratuitamente in formato sorgente o binario per tutte le principali piattaforme dal sito Web Python, https://www.python.org/, e possono essere distribuiti liberamente.\n",
        "\n",
        "Altri vantaggi di Python sono:\n",
        "\n",
        "- Software Open Source, supportato da Python Software Foundation\n",
        "- Disponibile su tutte le principali piattaforme (es. Windows, Linux e MacOS)\n",
        "- Supporta più paradigmi di programmazione (\"funzionale\", \"orientato agli oggetti\")\n",
        "- Community molto ampia con un ricco ecosistema di pacchetti di terze parti (librerie)\n",
        "\n",
        "Pertanto, è l'ideale per comprendere i concetti di base della programmazione."
      ]
    },
    {
      "cell_type": "markdown",
      "metadata": {
        "id": "8odqhoUTu3eS"
      },
      "source": [
        "# L'interprete Python e la console\n",
        "Abbiamo detto in precedenza che Python è un linguaggio di programmazione interpretato, ma di preciso questo cosa significa? Semplice, che ogni istruzione che abbiamo scritto nel nostro programma è interpretata da un apposito programma (l'interprete per l'appunto) durante l'esecuzione senza alcuna altra operazione preliminare. Altri linguaggi, come C o Java, sono invece compilati, per cui prima di poterli eseguire sul nostro computer, abbiamo bisogno di generare un file eseguibile eseguibile (il famoso .exe, tanto per capirci) a partire dal codice sorgente. \n",
        "\n",
        "Inoltre l'interprete Python è accessible anche attraverso una console interattiva e questo ci permette di inserire i comandi \"al volo\" senza dover creare un programma in un file separato e poi eseguirlo successivamente. "
      ]
    },
    {
      "cell_type": "markdown",
      "metadata": {
        "id": "tLNfzC6TVYw1"
      },
      "source": [
        "# Indentazione\n",
        "In Python, i blocchi di codice vengono delineati tramite quella che in programmazione chiamiamo ***indentazione***, ovvero l'aggiunta di spazi (4/8/12/ecc spazi bianchi o 1/2/3/ecc TAB) come delimitatore della nuova porzione di codice. Badate bene che a differenza di altri linguaggi di programmazione, l'indentazione in Python è obbligatoria, e non rispettarla può causare sia errori sintattici che semantici."
      ]
    },
    {
      "cell_type": "markdown",
      "metadata": {
        "id": "P7u_iTOLn6pg"
      },
      "source": [
        "![level0.png](data:image/png;base64,iVBORw0KGgoAAAANSUhEUgAAAyAAAAC0CAYAAABsb0igAAAABmJLR0QAAAAAAAD5Q7t/AAAACXBIWXMAAC4jAAAuIwF4pT92AAAAB3RJTUUH5QgKDw8ykYOBRgAABQBJREFUeNrt3cFt4lAUQNHHyELCtEEaoAYaYEcRqYMKkh7YUUFaAIkttAFICMmznEU8iQ3G/phzpGySCD5PFvIV/mYQEUUAAAC04I8RAAAAAgQAABAgAAAAAgQAABAgAAAAAgQAABAgAACAAAEAABAgAACAAAEAABAgAACAAAEAAAQIAACAAAEAAAQIAACAAAEAAAQIAAAgQAAAAAQIAAAgQAAAAAQIAAAgQAAAAAECAAAgQAAAAAECAAAgQAAAAAECAAAIEAAAAAECAAAIEAAAAAECAAAIEAAAAAECAAAIEAAAQIAAAAAIEAAAQIAAAAAIEAAAQIAAAAACBAAAQIAAAAACBAAAQIAAAAACBAAAECAAAAACBAAAECAAAAACBAAAECAAAIAAAQAAECAAAIAAAQAAECAAAIAAAQAABAgAAIAAAQAABAgAAIAAAQAABAgAAIAAAQAABAgAACBAAAAABAgAACBAAAAABAgAACBAAAAAAQIAACBAAAAAAQIAACBAAACATmVGAP1XFEWl/zudTjEejw0Mx3FCr6cJg8HAAQQkwycgAACAAAEAAAQIAACAAAEAANJnEzoAPFDVzeaXyyXW6/VdzzWfz2M4HFZag43pQFcGEVEYAzgBinAXLBzHz77u4/EYeZ5XOwEQIEBHXIIFAAAIEAAAQIAAAAAIEAAAQIAAAA37+PiIoii+/VTdgA4gQAAAAAECAAAgQAAAAAECAADwk8wIgFRV/QbpJtzyrdB9+4br1Of9qvb7fUwmE4MAesMnIAAAgAABAAAECAAAgAABAADSZxM68DQul0us1+u7HmM+n8dwODRM805OnueVbwRwOBzi7e3t2+/r3KwAQIAAL6vqSdf1eo3FYnHXcx2Px9IT4rI19PVOTeYNQJdcggUAAAgQAABAgAAAANzMHhDged6wsixWq9Xdj4F5A9CdQUQUxgD9VnXT8el0ivF4nOz6Wn+D/GVTdJtzrXN3o6bW/crzTun4/vz8jPf399aPE4BHcQkWAAAgQAAAAAECAAAgQAAAgPS5PQnwNFLbXFy2ibdsE3Ce57W++TuVzdapzdvxDdAPPgEBAAAECAAAIEAAAAAECAAAkD6b0IF/bwhZFqvVqvHH3e12sVwu//v3zWZT+vvpdNrK+iIiFotFI4+z3W5jNBr9+loiotZrKZvR+Xy+aY19mned4/iRz/mTqjcbaGLeWZbVWgNAJ++LEVEYA/Rb1bsqPcrX11fMZrOk1/3oE7R7X0sbJ5DPOO+yu451OcNXPb4B6nAJFgAAIEAAAAABAgAAIEAAAID02YQOAAC0xicgAACAAAEAAAQIAACAAAEAAAQIAACAAAEAAAQIAAAgQAAAAAQIAAAgQAAAAAQIAAAgQAAAAAECAAAgQAAAAAECAAAgQAAAAAECAAAIEAAAAAECAAAIEAAAAAECAAAIEAAAQIAAAAAIEAAAQIAAAAAIEAAAQIAAAAACBAAAQIAAAAACBAAAQIAAAAACBAAAQIAAAAACBAAAECAAAAACBAAAECAAAAACBAAAECAAAIAAAQAAECAAAIAAAQAAECAAAIAAAQAABAgAAIAAAQAABAgAAIAAAQAABAgAACBAAAAABAgAACBAAAAABAgAACBAAAAAAQIAACBAAAAAAQIAACBAAAAAAQIAACBAAAAAAQIAAAgQAAAAAQIAAAgQAAAAAQIAAHTiL0rp/xJsZvVrAAAAAElFTkSuQmCC)"
      ]
    },
    {
      "cell_type": "markdown",
      "metadata": {
        "id": "kybckiPevmBp"
      },
      "source": [
        "# Ciao mondo!\n",
        "\n",
        "Il primo programma che di solito viene realizzato in tutti i linguaggi di programmazione è noto come `hello world` e consiste semplicemente nella visualizzazione su schermo della ***stringa*** \"hello world!\".\n",
        "\n",
        "In altri linguaggi, come il C o JAVA, sarebbe necessario scrivere molte righe di codice, importare librerie e infine compilare il nostro programma per poterlo eseguire.\n",
        "\n",
        "In Python invece tutto questo si riduce ad una sola riga di codice!"
      ]
    },
    {
      "cell_type": "code",
      "metadata": {
        "id": "eEvJr3CTqVkM"
      },
      "source": [
        "print(\"hello igtrailer!\")"
      ],
      "execution_count": null,
      "outputs": []
    },
    {
      "cell_type": "markdown",
      "metadata": {
        "id": "579avALtVZ_w"
      },
      "source": [
        "Facile vero? "
      ]
    },
    {
      "cell_type": "markdown",
      "metadata": {
        "id": "P-g8ctBMWHC_"
      },
      "source": [
        "# Input, output e  variabili\n",
        "Analizzando il codice scritto in precedenza possiamo vedere che esso è composto da due parti (evidenziate anche dai colori diversi):\n",
        "\n",
        "\n",
        "*   `print(...)`: *print* è una ***funzione*** che fa parte della libreria standard del linguaggio che consente di stampare a video (output) una (o più...) ***stringa*** qualsiasi\n",
        "*   `\"hello igtrailer!\"`: è la ***stringa*** che vogliamo far visualizzare sullo schermo ed è contenuta all'interno delle parentesi tonde (_argomento della funzione_)\n",
        "\n",
        "Immaginiamo ora di voler scrivere un programma per salutare il nostro amico Samir. Come potremmo farlo? Semplice, basta sostituire la stringa `\"hello igtrailer!\"` con `\"Ciao Samir!\"` e il gioco è fatto:\n",
        "\n",
        "\n"
      ]
    },
    {
      "cell_type": "code",
      "metadata": {
        "id": "zyb-EgoDYrsw"
      },
      "source": [
        "print('Ciao Samir!')"
      ],
      "execution_count": null,
      "outputs": []
    },
    {
      "cell_type": "markdown",
      "metadata": {
        "id": "4PmxOkuJYtut"
      },
      "source": [
        "E se invece volessimo scrivere un programma che ci permette di salutare una persona qualsiasi, scelta al momento dell'esecuzione del nostro programma? È evidente come sia poco pratico modificare di volta in volta il nostro codice sorgente per inserire il nuovo nome. Dobbiamo quindi modificare leggermente il nostro programma per renderlo in grado di svolgere questo nuovo compito tentando per così dire di generalizzarlo. \n",
        "\n",
        "A livello logico il nostro programma si comporrà di 2 passi:\n",
        "\n",
        "\n",
        "1.   Chiedere all'utente di inserire il nome della persona da salutare (input)\n",
        "2.   Stampare la stringa di saluto a video (output)\n",
        "\n",
        "\n",
        "Per implementare il punto 1 dobbiamo quindi interagire con l'utente, ovvero dobbiamo in qualche modo ***leggere*** il suo ***input*** per poi stamparlo a video tramite la funzione `print`.\n",
        "\n",
        "Analogamente a quanto visto per la funzione `print`, anche in questo caso Python ci viene in aiuto in quanto esiste una funzione della libreria standard del linguaggio che ci permette di **leggere** ciò che l'utente digita sulla sua tastiera.\n",
        "\n",
        "Il nome di questa funzione è chiamata (con un notevole sforzo di fantasia) `input`.\n",
        "\n",
        "Vediamo quindi un semplice utilizzo di questa nuova funzione:"
      ]
    },
    {
      "cell_type": "code",
      "source": [
        "input(\"Inserisci il nome della persona da salutare: \")"
      ],
      "metadata": {
        "id": "GRVG-Io_rn0f"
      },
      "execution_count": null,
      "outputs": []
    },
    {
      "cell_type": "markdown",
      "source": [
        "Da quello che vediamo dall'esecuzione dell'istruzione precedente, il prompt della console ci mostra il messaggio contenuto all'interno delle parentesi tonde della funzione `input`. A questo punto il programma resterà in attesa fin tanto che l'utente interagisca con esso, inserendo in questo caso il nome della persona che vuole salutare.\n",
        "\n",
        "Dopo che l'utente inserisce il nome il programma va avanti (e in questo caso termina). Resta quindi ora da capire come collegare l'input all'output ovvero come stampare a video la stringa inserita dall'utente. Sembra infatti che manchi qualcosa nel nostro ragionamento fatto in precedenza. È il caso allora di renderlo un po' più preciso e in particolare possiamo arrichirlo di un ulteriore passo logico ovvero la ***memorizzazione*** del nome inserito dall'utente.\n",
        "\n",
        "A livello logico il nostro programma si comporrà ora di 3 passi:\n",
        "\n",
        "\n",
        "1.   Chiedere all'utente di inserire il nome della persona da salutare (***input***)\n",
        "2.   ***Memorizzare*** il nome della persona da salutare\n",
        "3.   Stampare la stringa di saluto a video (***output***)\n",
        "\n",
        "\n",
        "Per realizzare i punti 1 e 2 dobbiamo modificare leggermente la chiamata alla funzione `input` vista in precendenza in questo modo:"
      ],
      "metadata": {
        "id": "BGvf3CNMrsaq"
      }
    },
    {
      "cell_type": "code",
      "metadata": {
        "id": "v3JzDK3UaizL"
      },
      "source": [
        "nome = input(\"Inserisci il nome della persona da salutare: \")"
      ],
      "execution_count": null,
      "outputs": []
    },
    {
      "cell_type": "markdown",
      "metadata": {
        "id": "FEUFIRc-bG1m"
      },
      "source": [
        "Ma che cosa rappresenta la stringa `nome` che si trova all'inizio dell'istruzione scritta su?\n",
        "\n",
        "`nome` è una ***variabile***.\n",
        "\n",
        "Possiamo pensare ad una variabile come ad una scatola in cui memorizzare dati, informazioni, ecc.., che chiaramente possono essere diverse in ogni esecuzione del programma. Queste informazioni potranno essere usate in diversi punti del nostro programma, oppure essere modificate, cancellate, ecc..\n",
        "\n",
        "Nel nostro caso vogliamo salutare la persona specificata in input dall'utente che esegue il nostro programma, ma noi non conosciamo il suo nome a priori e non lo conosceremo fino all'esecuzione, quindi dobbiamo riservarci uno spazio per poter salvare questa informazione per poi usarla successivamente durante l'esecuzione del nostro programma.\n",
        "\n",
        "All'interno delle variabili possiamo memorizzare diversi tipi di dato (primitivi):\n",
        "\n",
        "* numeri interi (`int`)\n",
        "* numeri reali (`float`)\n",
        "* caratteri (`char`) e stringhe di caratteri (` string`)\n",
        "* booleani (`bool`) (ovvero i valori ` True` o `False`)\n",
        "* ecc..\n",
        "\n",
        "In altri linguaggi di programmazione, come _C_ o _JAVA_, è necessario indicare il tipo della variabile ongi volta che la dichiariamo. In Python invece non è necessario poiché è l'interprete stesso a dedurne il tipo in fase di esecuzione del programma.\n",
        "\n",
        "La sintassi per ***dichiarare e assegnare*** un valore ad una variabile è:\n",
        "\n",
        "`NOME_VARIABILE = VALORE_VARIABILE`\n",
        "\n",
        "Se quindi volessimo ad esempio memorizzare il numero `3` all'interno di una varabile denominata `x` l'istruzione da scrivere sarà:"
      ]
    },
    {
      "cell_type": "code",
      "source": [
        "x = 3"
      ],
      "metadata": {
        "id": "mi_-gVpdx2YI"
      },
      "execution_count": null,
      "outputs": []
    },
    {
      "cell_type": "markdown",
      "source": [
        "Ovvero, abbiamo **dichiarato** la variabile `x` ed ad essa abbiamo **assegnato** (attraverso l'***operatore*** `=`) il valore `3`.\n",
        "\n",
        "Se vogliamo conoscere il tipo di una determinata variabile possiamo fare uso della funzione della libreria standard `type`\n",
        "\n",
        "```\n",
        "type(var)\n",
        "```"
      ],
      "metadata": {
        "id": "dZ_lUw5Gx4-4"
      }
    },
    {
      "cell_type": "code",
      "source": [
        "x = 3\n",
        "print(type(x))"
      ],
      "metadata": {
        "id": "K_vSKNLaz-SG"
      },
      "execution_count": null,
      "outputs": []
    },
    {
      "cell_type": "markdown",
      "source": [
        "## Numeri\n",
        "\n",
        "Python permette di definire varibili numeriche di tre tipi distinti: i `numeri interi`, i `numeri in virgola mobile` e i `numeri complessi` (che noi non vedremo).\n",
        "\n",
        "| Classe Python | Tipo |\n",
        "|:-------: |:-------------: |\n",
        "|``int``| Rappresenta numeri interi |\n",
        "|``float`` | Rappresenta numeri razionali a virgola mobile (*float* ing-point) |\n",
        "|``complex`` | Rappresenta numeri complessi |\n",
        "\n",
        "Gli interi `int` sono limitati ad assumere valori nei seguenti intervalli:\n",
        "\n",
        "* In macchine a 32 bit, $[-2^{31}, 2^{31}-1]$\n",
        "* In macchine a 64 bit, $[-2^{63}, 2^{63}-1]$\n",
        "\n",
        "I razionali `float` hanno precisione limitata e anch'essa dipende dalla macchina che si sta utilizzando."
      ],
      "metadata": {
        "id": "RU8ocSzq1E75"
      }
    },
    {
      "cell_type": "markdown",
      "source": [
        "## Booleani\n",
        "\n",
        "Il tipo di dato booleano (`bool`) è uno dei tipi di dati integrati in Python. \n",
        "\n",
        "Una variabile di tipo *bool* può assumere in Python unicamente i valori `True` o `False`.\n",
        "\n",
        "Questo tipo di dato è usato per rappresentare il valore di verità di un'espressione (ad esempio 1 <= 2) e/o per rappresentare valori condizionali (flag). Capire come si comportano i valori booleani di Python è di fondamentale importanza per poter scrivere programmi complessi."
      ],
      "metadata": {
        "id": "odAX7-4VdNSM"
      }
    },
    {
      "cell_type": "markdown",
      "source": [
        "## Stringhe\n",
        "\n",
        "Le stringhe sono oggetti ***immutabili*** che rappresentano del testo sottoforma di ***sequenza*** di caratteri.\n",
        "\n",
        "Per definire una stringa, ho due alternative equivalenti:\n",
        "\n",
        "```\n",
        "str = \"testo\"\n",
        "str = 'testo'\n",
        "```\n",
        "\n",
        "ovvero racchiudere il testo all'interno di apici singoli  ('...') o di apici doppi (\"...\").\n",
        "\n",
        "E se il nostro testo contiene i caratteri `'` o `\"`?\n",
        "\n",
        "```\n",
        "# se la stringa contiente il carattere di apice singolo useremo i doppi apici per definire la stringa\n",
        "str = \"testo che contiene il carattere '\"\n",
        "\n",
        "# se la stringa contiente il carattere di apice doppio useremo il singolo apice per definire la stringa\n",
        "str = 'testo che contiene il carattere \"'\n",
        "```"
      ],
      "metadata": {
        "id": "hh6lHpxl1JNs"
      }
    },
    {
      "cell_type": "code",
      "source": [
        "str = \"testo che contiene il carattere '\"\n",
        "print(str)\n",
        "str = 'testo che contiente il carattere \"'\n",
        "print(str)"
      ],
      "metadata": {
        "id": "I5KyjYsv4j3p"
      },
      "execution_count": null,
      "outputs": []
    },
    {
      "cell_type": "markdown",
      "source": [
        "E se la nostra stringa li contiene entrambi? Bè in questo caso è necessario fare l'***escaping*** del carattere, ovvero anteponendo al carattere `'` o `\"` un ***backslash*** (`\\`). \n",
        "Supponendo di utilizzare la notazione con doppi apici per definire la nostra stringa, l'istruzione sarà allora:\n",
        "\n",
        "```\n",
        "str = \"Testo che contiente sia il carattere \\\" che il carattere '.\"\n",
        "```"
      ],
      "metadata": {
        "id": "fOc5XDn54xlY"
      }
    },
    {
      "cell_type": "code",
      "source": [
        "str = \"Testo che contiente sia il carattere \\\" che il carattere '.\"\n",
        "print(str)"
      ],
      "metadata": {
        "id": "4ADKGiob64XC"
      },
      "execution_count": null,
      "outputs": []
    },
    {
      "cell_type": "markdown",
      "source": [
        "Se poi avessimo la necessità di scrivere una stringa che contiene (anche) il carattere di backslash, dobbiamo semplicemente effettuare l'escaping come fatto prima\n",
        "\n",
        "`str = \"Testo che contiente il carattere \\\\\"`"
      ],
      "metadata": {
        "id": "H_jRI0vL7IC1"
      }
    },
    {
      "cell_type": "code",
      "source": [
        "str = \"Testo che contiente il carattere \\\\\"\n",
        "print(str)"
      ],
      "metadata": {
        "id": "oh-AZOom7f2O"
      },
      "execution_count": null,
      "outputs": []
    },
    {
      "cell_type": "markdown",
      "source": [
        "\n",
        "Tornando al nostro esempio, la variabile `nome` conterrà ora il valore della stringa inserita in input dall'utente. \n",
        "Questo è possibile in quanto il ***risultato*** della chiamata della funzione `input` è una stringa, e quindi possiamo usare questo risultato per assegnarlo come valore della nostra variabile `nome`. \n",
        "\n",
        "Ora che abbiamo appreso il concetto di variabile, possiamo fare in modo che il nostro programma saluti chiunque."
      ],
      "metadata": {
        "id": "On5KgjTm1D_c"
      }
    },
    {
      "cell_type": "code",
      "metadata": {
        "id": "_JOYZn6XdzD2"
      },
      "source": [
        "nome = input(\"Inserisci il nome della persona da salutare: \")\n",
        "print(nome)"
      ],
      "execution_count": null,
      "outputs": []
    },
    {
      "cell_type": "markdown",
      "metadata": {
        "id": "92Nowp_28lYl"
      },
      "source": [
        "# Operazioni sulle variabili\n",
        "Come detto in precedenza le variabili servono a memorizzare dei dati che saranno usati in istruzioni successive. Queste istruzioni possono ovviamente modificare il valore di queste variabili attraverso l'uso di particolari `operatori` che variano a seconda del tipo di dato memorizzato all'interno della variabile.\n"
      ]
    },
    {
      "cell_type": "markdown",
      "metadata": {
        "id": "4FGq90kC-w8X"
      },
      "source": [
        "## Operazioni aritmetiche sui numeri\n",
        "\n",
        "Per quanto riguarda le varibili di tipo numerico, i principali operatori in Python sono:\n",
        "\n",
        "| Simbolo | Operazione |\n",
        "|:-------: |:-------------: |\n",
        "| + | somma |\n",
        "| - | sottrazione |\n",
        "| $*$ | moltiplicazione |\n",
        "| / | divisione |\n",
        "| // | divisione intera |\n",
        "| $**$ | elevazione a potenza |\n",
        "| % | resto della divisione (modulo)\n",
        "\n",
        "Vediamo qualche esempio"
      ]
    },
    {
      "cell_type": "code",
      "source": [
        "x = 3 + 2\n",
        "print(x)"
      ],
      "metadata": {
        "id": "EzFnCG449YLt"
      },
      "execution_count": null,
      "outputs": []
    },
    {
      "cell_type": "code",
      "source": [
        "y = 3 - 7\n",
        "print(y)\n"
      ],
      "metadata": {
        "id": "O6lmlnmKhLc2"
      },
      "execution_count": null,
      "outputs": []
    },
    {
      "cell_type": "code",
      "source": [
        "z = x * y\n",
        "print(z)"
      ],
      "metadata": {
        "id": "MlWJz6AphM47"
      },
      "execution_count": null,
      "outputs": []
    },
    {
      "cell_type": "code",
      "source": [
        "k = 3 / 2 # il valore restuito sarà un numero reale (con la virgola - float)\n",
        "print(k)"
      ],
      "metadata": {
        "id": "PoVjw_Q-hO8e"
      },
      "execution_count": null,
      "outputs": []
    },
    {
      "cell_type": "code",
      "source": [
        "t = 3 // 2 # # il valore restuito sarà un numero intero (la parte decimale sarà scartata)\n",
        "print(t)"
      ],
      "metadata": {
        "id": "ZBFJKN7YhQZD"
      },
      "execution_count": null,
      "outputs": []
    },
    {
      "cell_type": "code",
      "source": [
        "s = 3 ** 2\n",
        "print(s)"
      ],
      "metadata": {
        "id": "VFUxceDIhSku"
      },
      "execution_count": null,
      "outputs": []
    },
    {
      "cell_type": "code",
      "source": [
        "q = 2 ** 4\n",
        "print(q)"
      ],
      "metadata": {
        "id": "_QUxIB_MhUr5"
      },
      "execution_count": null,
      "outputs": []
    },
    {
      "cell_type": "code",
      "source": [
        "r = 3 % 2\n",
        "print(r)"
      ],
      "metadata": {
        "id": "WWwRw2zQhWvC"
      },
      "execution_count": null,
      "outputs": []
    },
    {
      "cell_type": "markdown",
      "source": [
        "Nelle operazioni eseguite su variabili di tipo numerico, Python rispetta il normale ordine di priorità degli operatori artimetici: vengono eseguite prima l'elevazione a potenza, la moltiplicazione, la divisione e il modulo (stessa precedenza), solo poi l'addizione e la sottrazione. Se vogliamo \"cambiare\" questo ordine dobbiamo semplicemente usare le parentesi."
      ],
      "metadata": {
        "id": "qz8Mvedu9YlD"
      }
    },
    {
      "cell_type": "code",
      "metadata": {
        "id": "Tm9AwiXt_BXY"
      },
      "source": [
        "num1 = 5\n",
        "num2 = 6\n",
        "op1 = num1 + num2 * 2\n",
        "print(op1)\n",
        "\n",
        "op2 = (num1 + num2) * 2\n",
        "print(op2)"
      ],
      "execution_count": null,
      "outputs": []
    },
    {
      "cell_type": "markdown",
      "metadata": {
        "id": "88JMoDvn_M1c"
      },
      "source": [
        "Nel primo caso (op1) abbiamo realizzato l'operazione\n",
        "\n",
        "$$5 + (6 \\times 2) = 5 + 12 = 17$$\n",
        "\n",
        "mentre nel secondo (op2)\n",
        "\n",
        "$$ (5 + 6) \\times 2 = 11 \\times 2 = 22$$\n"
      ]
    },
    {
      "cell_type": "markdown",
      "source": [
        "### Esercizio\n",
        "Usando pi = 3.141592 e dato r = 2.5, calcolare:\n",
        "\n",
        "1. La circonferenza di raggio r: $2 \\pi r$. \n",
        "2. L'area di un cerchio di raggio r: $\\pi r^2$.\n",
        "3. Il volume di una sfera di raggio r: $\\frac{4}{3} \\pi r^3$."
      ],
      "metadata": {
        "id": "-DX6JJmVgWAl"
      }
    },
    {
      "cell_type": "code",
      "source": [
        "pi = 3.131592\n",
        "r = 2.5"
      ],
      "metadata": {
        "id": "ln5iWG4Mg703"
      },
      "execution_count": null,
      "outputs": []
    },
    {
      "cell_type": "markdown",
      "metadata": {
        "id": "DamS27wmDoZ2"
      },
      "source": [
        "## Operatori di confronto\n",
        "Sono degli operatori che servono a comparare valori (siano essi numerici, booleani, stringhe, ecc..) tra di loro, e restituiscono il risultato di questa comparazione sotto forma di valori booleani, quindi `True` o `False`.\n",
        "\n",
        "\n",
        "| Simbolo | Operatore | Esempio | Valore restituito |\n",
        "| :-----: |:--------: | :--------------: | :---: |\n",
        "| == | uguaglianza | 3 == 2 | False |\n",
        "| != | diverso | 3 != 2 | True |\n",
        "| > | maggiore | 3 > 2 | True |\n",
        "| < | minore | 3 < 2 | False |\n",
        "| >= | maggiore o uguale | 2>=2 | True |\n",
        "| <= | minore o uguale | 2<=3 | True |"
      ]
    },
    {
      "cell_type": "code",
      "metadata": {
        "id": "KnQdBsTzDHKw"
      },
      "source": [
        "a = 5\n",
        "b = 3\n",
        "c = 4\n",
        "x = a > b\n",
        "y = b > c\n",
        "print(x)\n",
        "print(y)"
      ],
      "execution_count": null,
      "outputs": []
    },
    {
      "cell_type": "markdown",
      "source": [
        "Posso far uso di questi operatori anche su variabili di tipo stringa, ad esempio per vedere se due stinghe sono uguali (hanno lo stesso contenuto)\n",
        "\n",
        "```\n",
        "str1 = \"stringa1\"\n",
        "str2 = \"stringa2\"\n",
        "\n",
        "uguali = str1 == str2\n",
        "\n",
        "print(uguali)\n",
        "```"
      ],
      "metadata": {
        "id": "SIJ2iY8bzHL0"
      }
    },
    {
      "cell_type": "code",
      "source": [
        "str1 = \"stringa1\"\n",
        "str2 = \"stringa2\"\n",
        "\n",
        "uguali = str1 == str2\n",
        "\n",
        "print(uguali)\n",
        "print(type(uguali))"
      ],
      "metadata": {
        "id": "prUjbU0gzdCo"
      },
      "execution_count": null,
      "outputs": []
    },
    {
      "cell_type": "markdown",
      "metadata": {
        "id": "9OMtFjGeE2TI"
      },
      "source": [
        "## Operatori Booleani\n",
        "\n",
        "Così come nell'algebra classica abbiamo operatori quali `+` e `-`, nell'Algebra Booleana esistono 3 __operatori booleani__ (o operatori logici):\n",
        "\n",
        "* AND\n",
        "* OR\n",
        "* NOT\n",
        "\n",
        "Gli operatori booleani sono utilissimi perché ci consentono di creare espressioni ben più articolate e descrittive di un semplice `3 == 2`. Possono anche essere utilizzati in combinazione con gli operatori di comparazione appena descritti. \n",
        "\n",
        "Anche per gli operatori logici esiste una priorità di esecuzione. In particolare si ha che l'operatore logico con priorità più alta è l'operatore NOT, quindi AND e infine OR. Infine, così come accade per gli operatori aritmetici, l'ordine di priorità degli operatori logici in una espressione logica può essere \"alterato\" ricorrendo alle parentesi tonde per raggruppare le operazioni.\n",
        "\n",
        "Analizziamone il comportamento tramite le __tabelle di verità__, che rappresentano tutti i possibili risultati rispetto alle varie possibili combinazioni degli operandi."
      ]
    },
    {
      "cell_type": "markdown",
      "metadata": {
        "id": "AbC-cbQQTMUo"
      },
      "source": [
        "### AND\n",
        "Affinché un'espressione con questo operatore dia come risultato __True__, entrambi gli operandi devono essere __True__, in caso contrario otterremo sempre un __False__.\n",
        "\n",
        "| X | Y | Risultato |\n",
        "| :-: | :-: | :-: |\n",
        "| True | False | False |\n",
        "| True | True | __True__ |\n",
        "| False | True | False |\n",
        "| False | False | False |\n",
        "\n",
        "In Python questo operatore è definito dalla parola chiave `and`."
      ]
    },
    {
      "cell_type": "code",
      "metadata": {
        "id": "sq3y7xtwTXa0"
      },
      "source": [
        "print(True and False)\n",
        "print(True and True)\n",
        "print(False and True)\n",
        "print(False and False)"
      ],
      "execution_count": null,
      "outputs": []
    },
    {
      "cell_type": "markdown",
      "source": [
        "Ovvimante possiamo creare espressioni più o meno complesse facendo uso degli operatori di confronto visti in precedenza. \n",
        "\n",
        "Consideriamo ad esempio, le espressioni booleane `x > 1` e `x < 3`. Sappiamo che i risultati di questi due confronti saranno dei valori booleani, e quindi posso combinare i due risultati creando un'espressione più complessa:\n",
        "\n",
        "```\n",
        "    int int     int int\n",
        "     |   |       |   |\n",
        "    (x > 1) and (x < 3)\n",
        "    \\_____/     \\_____/\n",
        "      bool        bool\n",
        "    \\_________________/\n",
        "           bool\n",
        "```\n"
      ],
      "metadata": {
        "id": "u899aO-Ux9CH"
      }
    },
    {
      "cell_type": "markdown",
      "metadata": {
        "id": "TrrELogETuNK"
      },
      "source": [
        "### OR\n",
        "Nel caso dell'operatore OR affinché il risultato sia __True__ __almeno uno dei due operandi__ deve valere __True__, e chiaramente, solo nel caso cui entrambi i valori sono __False__ il risultato sarà __False__.\n",
        "\n",
        "| X | Y | Risultato |\n",
        "| :-: | :-: | :-: |\n",
        "| True | False | __True__ |\n",
        "| True | True | __True__ |\n",
        "| False | True | __True__ |\n",
        "| False | False | False |\n",
        "\n",
        "In Python questo operatore è definito dalla parola chiave `or`."
      ]
    },
    {
      "cell_type": "code",
      "metadata": {
        "id": "ZcT98ABBUJeh"
      },
      "source": [
        "print(True or False)\n",
        "print(True or True)\n",
        "print(False or True)\n",
        "print(False or False)"
      ],
      "execution_count": null,
      "outputs": []
    },
    {
      "cell_type": "markdown",
      "metadata": {
        "id": "qaGn0B7OUc1T"
      },
      "source": [
        "### NOT\n",
        "A differenza dei due operatori precedenti che richiedono la presenza di due operandi (e per questo sono detti __operatori binari__), il NOT è un operatore __unario__ ovvero richiede su un solo operando. Esso infatti si limita ad \"inveritre\" il valore di verità dell'operando, per cui se l'operatore vale True il risultato sarà False, e viceversa.\n",
        "\n",
        "| X |  Risultato |\n",
        "| :-: | :-: |\n",
        "| True |  False |\n",
        "| False | True |\n",
        "\n",
        "In Python questo operatore è definito dalla parola chiave `not`."
      ]
    },
    {
      "cell_type": "code",
      "metadata": {
        "id": "UI0-DPAIVacP"
      },
      "source": [
        "print(not True)\n",
        "print(not False)"
      ],
      "execution_count": null,
      "outputs": []
    },
    {
      "cell_type": "markdown",
      "metadata": {
        "id": "pzbGZ4v9V59w"
      },
      "source": [
        "### Esercizio\n",
        "__Definire il valore delle seguenti espressioni booleane:__\n",
        "* (True and False) or not True\n",
        "* not True and False or True\n",
        "* not False and True or False\n",
        "* (not True and False or True) or (not False and True or False)\n",
        "* 3 > 2 and 4 != 6\n",
        "* (4+10) == (20 - 6) and \"Ciao\" != \"Mondo\""
      ]
    },
    {
      "cell_type": "code",
      "metadata": {
        "id": "Of42fQ0LXAs4"
      },
      "source": [
        "(True and False) or not True"
      ],
      "execution_count": null,
      "outputs": []
    },
    {
      "cell_type": "markdown",
      "source": [
        "## Casting e conversione stringa-numero\n",
        "\n",
        "Per poter convertire una variabile da un tipo ad un altro è necessario effettuare l'operazione di ***casting*** della variabile. Essendo Python un linguaggio orientato agli oggetti, esso utilizza le classi per definire i tipi di dati, inclusi i suoi tipi primitivi.\n",
        "\n",
        "Ad esempio vogliamo \"trasformare\" una variabile di ***tipo intero (int)*** in una variabile di ***tipo reale (float)***.\n",
        "\n",
        "Per far ciò usiamo il costruttore della corrispondente classe (tipi di dato)."
      ],
      "metadata": {
        "id": "36IRd3CAAcb3"
      }
    },
    {
      "cell_type": "code",
      "source": [
        "x = 3\n",
        "print(x)\n",
        "# convertiamo la variabile x da int a float\n",
        "y = float(x)\n",
        "print(y)"
      ],
      "metadata": {
        "id": "om8ubIufCxrc"
      },
      "execution_count": null,
      "outputs": []
    },
    {
      "cell_type": "markdown",
      "source": [
        "Possiamo anche effettuare il \"passaggio inverso\" facendo ovviamente attenzione al fatto che in questo caso perderemo la parte decimale del nostro numero"
      ],
      "metadata": {
        "id": "ySuVOhp1C-4S"
      }
    },
    {
      "cell_type": "code",
      "source": [
        "x = 3.5\n",
        "print(x)\n",
        "# convertiamo la variabile x da float a int\n",
        "y = int(x)\n",
        "print(y)"
      ],
      "metadata": {
        "id": "pybhvHW2DJFW"
      },
      "execution_count": null,
      "outputs": []
    },
    {
      "cell_type": "markdown",
      "source": [
        "\n",
        "Infine è possibile anche effettuare la conversione da numero a stringa e viceversa. Supponiamo di voler convertire la variabile contenente ***stringa*** `\"3\"` in una variabile che contiente il ***numero intero*** `3`."
      ],
      "metadata": {
        "id": "JX1B2LhhCyXP"
      }
    },
    {
      "cell_type": "code",
      "source": [
        "s = \"3\"\n",
        "print(s)\n",
        "print(type(s))\n",
        "# convertiamo la variabile s da stringa a int\n",
        "x = int(s)\n",
        "print(x)\n",
        "print(type(x))"
      ],
      "metadata": {
        "id": "lZtex37SDeFg"
      },
      "execution_count": null,
      "outputs": []
    },
    {
      "cell_type": "markdown",
      "source": [
        "Effettuiamo ora il \"passaggio inverso\" ovvero convertiamo una stringa in numero"
      ],
      "metadata": {
        "id": "GGcW3vACD0oC"
      }
    },
    {
      "cell_type": "code",
      "source": [
        "x = 3\n",
        "print(x)\n",
        "print(type(x))\n",
        "# convertiamo la variabile x da numero a str\n",
        "s = str(x)\n",
        "print(s)\n",
        "print(type(s))"
      ],
      "metadata": {
        "id": "exbWfm4YD65v"
      },
      "execution_count": null,
      "outputs": []
    },
    {
      "cell_type": "markdown",
      "metadata": {
        "id": "N9W-Om6vdPP7"
      },
      "source": [
        "## Operazioni sulle stringhe\n",
        "Per concatenare due o più stringhe possiamo usare l'operatore `+`. Il risultato di questa operazione sarà una ***nuova stringa***."
      ]
    },
    {
      "cell_type": "code",
      "metadata": {
        "id": "GrUJxQ8Y9CEk"
      },
      "source": [
        "parola1 = \"Ciao\"\n",
        "parola2 = \"mondo\"\n",
        "print(parola1 + parola2)"
      ],
      "execution_count": null,
      "outputs": []
    },
    {
      "cell_type": "markdown",
      "source": [
        "Attenzione: non possiamo concatenare stringhe con altri tipi. Ad esempio se scrivessi:\n",
        "\n",
        "```\n",
        "num = 123\n",
        "print(\"il valore di num è: \" + num)\n",
        "```\n",
        "\n",
        "otterrei un errore in quanto sto tentando di concatenare una stringa (\"il valore di num è: \") con un intero (num)."
      ],
      "metadata": {
        "id": "67sDzwFKZ_zq"
      }
    },
    {
      "cell_type": "code",
      "source": [
        "num = 123\n",
        "print(\"il valore di num è: \" + num)"
      ],
      "metadata": {
        "id": "iGk5nry2aeKk"
      },
      "execution_count": null,
      "outputs": []
    },
    {
      "cell_type": "markdown",
      "source": [
        "Per poter ovviare a questo inconveniente dobbiamo far ricorso al casting visto in precedenza, ovvero trasformare la nostra variabile num da tipo intero a stringa"
      ],
      "metadata": {
        "id": "fRuzoM5qa4a7"
      }
    },
    {
      "cell_type": "code",
      "source": [
        "num = 123\n",
        "print(\"il valore di num è: \" + str(num))"
      ],
      "metadata": {
        "id": "F4yd6u6EbB4X"
      },
      "execution_count": null,
      "outputs": []
    },
    {
      "cell_type": "markdown",
      "metadata": {
        "id": "FwONgsen9a4B"
      },
      "source": [
        "In Python è possibile moltiplicare una stringa per un numero intero usando l'operatore `*`. Ad esempio scrivendo:\n",
        "\n",
        "`print(parola1*3)`\n",
        "\n",
        "stamperemo a video la stringa ottenuta dalla concatenzazione della stringa contenuta all'interno della variabile *parola1* per 3 volte."
      ]
    },
    {
      "cell_type": "code",
      "metadata": {
        "id": "t1746da19wyb"
      },
      "source": [
        "print(parola1*3)"
      ],
      "execution_count": null,
      "outputs": []
    },
    {
      "cell_type": "markdown",
      "metadata": {
        "id": "ftqUsarY95oG"
      },
      "source": [
        "Ovviamente è anche possibile assegnare ad una nuova variabile il risultato delle nostre operazioni."
      ]
    },
    {
      "cell_type": "code",
      "metadata": {
        "id": "O9vQsSnA-Hg4"
      },
      "source": [
        "frase = parola1 + \" \" + parola2 + \"!\"\n",
        "print(frase)"
      ],
      "execution_count": null,
      "outputs": []
    },
    {
      "cell_type": "markdown",
      "source": [
        "*Nota: alla variabile frase sarà assegnato il valore della stringa risultante dalla concatenazione di 4 stringhe:*\n",
        "1. parola1\n",
        "2. la stringa composta unicamente dal carattere di spaziatura\n",
        "3. parola2\n",
        "4. la stringa composta unicamente dal carattere `!`"
      ],
      "metadata": {
        "id": "eJ0jNOBAYCnX"
      }
    },
    {
      "cell_type": "markdown",
      "metadata": {
        "id": "FeBHCgZ8tQmt"
      },
      "source": [
        "### Lunghezza di una stringa\n",
        "\n",
        "Python mette a disposizione un comodo e semplice metodo per conoscere la lunghezza (ovvero il **numero di caratteri**) di una stringa attraverso la funzione `len(stringa)`. Se volessimo stampare a video il numero di caratteri della stringa `parola1` sarà sufficiente quindi scrivere"
      ]
    },
    {
      "cell_type": "code",
      "metadata": {
        "id": "_AnnBYu7trcN"
      },
      "source": [
        "print(len(parola1))\n",
        "# possiamo ovviamente assegnare il risultato \n",
        "# della chiamata alla funzione len(parola1) ad una variabile\n",
        "l = len(parola1)\n",
        "print(l*3)"
      ],
      "execution_count": null,
      "outputs": []
    },
    {
      "cell_type": "markdown",
      "metadata": {
        "id": "lXA2uCQHAxv-"
      },
      "source": [
        "In Python è inoltre possibile creare una `stringa vuota`, ovvero costituita da 0 caratteri"
      ]
    },
    {
      "cell_type": "code",
      "metadata": {
        "id": "lwdqebkvA7As"
      },
      "source": [
        "s = \"\"\n",
        "print(len(s))"
      ],
      "execution_count": null,
      "outputs": []
    },
    {
      "cell_type": "markdown",
      "metadata": {
        "id": "D3-8DlnnqPCE"
      },
      "source": [
        "### Accesso ai caratteri e Slice\n",
        "\n",
        "Abbiamo detto che le stringhe altro non sono che una sequenza (una concatenazione) di carratteri. Ma è possibile conoscere o \"estrarre\" un carattere che si trova in una particolare posizione? Ovviamente si, e in Python è possibile accedere ai singoli caratteri di una stringa attraverso l'operatore di accesso indicizzato la cui sintassi è `[indice]`. Il valore di *indice* potrà essere un numero positivo compreso tra **0** (posizione del primo carattere della nostra stringa) e **len(stringa)-1** (posizione dell'ultimo carattere della stringa), ma anche un numero negativo (ma questa è un'altra storia..). Ad esempio se volessimo stampare il **secondo** carattere della stringa `parola1` dovremmo scrivere"
      ]
    },
    {
      "cell_type": "code",
      "metadata": {
        "id": "jh99FcidtHr0"
      },
      "source": [
        "parola1 = \"Ciao\"\n",
        "print(parola1[1])"
      ],
      "execution_count": null,
      "outputs": []
    },
    {
      "cell_type": "markdown",
      "metadata": {
        "id": "FVlMD0ijyZEi"
      },
      "source": [
        "Se tentassimo di accedere ad un carettere della stringa specificando un indice non valido (ad esempio, considerando indici positvi, un vaolre dell'indice >= len(s)) otterremmo invece un errore."
      ]
    },
    {
      "cell_type": "code",
      "source": [
        "print(parola1[4])"
      ],
      "metadata": {
        "id": "nixDRp46k-v1"
      },
      "execution_count": null,
      "outputs": []
    },
    {
      "cell_type": "markdown",
      "source": [
        "È bene ricordare che le stringhe sono oggetti **immutabili** per cui non è possibile modificarne il contenuto se non creando una nuova stringa con un nuovo valore. In particolare quindi **non è possibile** far uso dell'operatore di accesso per cambiare il valore di un carattere della nostra stringa."
      ],
      "metadata": {
        "id": "wDn8Uik5l8Kj"
      }
    },
    {
      "cell_type": "code",
      "source": [
        "parola1 = \"Ciao\"\n",
        "parola1[2] = 'x'"
      ],
      "metadata": {
        "id": "yY02TkeRmnS0"
      },
      "execution_count": null,
      "outputs": []
    },
    {
      "cell_type": "markdown",
      "metadata": {
        "id": "ZuhAoRz2t_3p"
      },
      "source": [
        "E se invece volessimo \"estrarre\" dalla nostra stringa iniziale una sottostringa o per meglio dire una **sottosequenza di caratteri**, ad esempio i primi 3 caratteri della stringa `parola1`? Anche in questo caso Python mette a disposizione un comodo metodo per poter eseguire questo compito attraverso l'uso dello `slice` specificando l'indice iniziale (**incluso**) e finale (**escluso**) della sottosequenza voluta. \n",
        "\n",
        "Considerando `START` e `STOP` due numeri interi, la sintassi è la seguente:\n",
        "\n",
        "```\n",
        "stringa[START:STOP]\n",
        "```\n",
        "\n",
        "che equivale a:\n",
        "\n",
        "`stringa[START] + stringa[START+1] + ... + stringa[STOP-1]`\n",
        "\n",
        "Attenzione: il risultato dell’estrazione è ***una nuova stringa***, per cui la stringa originale resta invariata."
      ]
    },
    {
      "cell_type": "code",
      "metadata": {
        "id": "k4atp-WFvIck"
      },
      "source": [
        "parola1 = \"Ciao\"\n",
        "parola1[0:3]\n",
        "print(parola1)"
      ],
      "execution_count": null,
      "outputs": []
    },
    {
      "cell_type": "code",
      "source": [
        "sottosequenza = parola1[0:3]\n",
        "print(sottosequenza)"
      ],
      "metadata": {
        "id": "dNY0pYW6caWx"
      },
      "execution_count": null,
      "outputs": []
    },
    {
      "cell_type": "markdown",
      "metadata": {
        "id": "wr8q_44TvKwF"
      },
      "source": [
        "Come specificato nella definizione, l'unica accortezza che si deve tenere a mente quando usiamo lo slice è che l'indice finale della sottosequenza **non sarà incluso** nel nostro risultato. Con riferimento all'esempio di sopra avremo quindi che la nostra variabile `sottosequenza` conterrà i caratteri in posizione `0, 1 e 2` della stringa `parola1`. Così come visto prima è necessario prestare attenzione ai valori degli indici specificati, in quanto se tentassimo di accedere ad un carettere della stringa specificando un indice non valido (ad esempio, considerando sempre indici positivi, un valore dell'indice >= len(s)) otterremmo un errore."
      ]
    },
    {
      "cell_type": "markdown",
      "source": [
        "#Appendice"
      ],
      "metadata": {
        "id": "nMMRREaX5IQ8"
      }
    },
    {
      "cell_type": "markdown",
      "source": [
        "Fino ad ora abbiamo fatto uso della funzione `print` per stampare a video un'unica stringa, magari generata dalla concatenazione di più stringhe.\n",
        "\n",
        "Questa funzione però ci permmette anche di stampare ***su un'unica linea*** anche più varibili contemporaneamente, il cui contenuto sarà separato da un carattere di spaziatura.\n",
        "\n",
        "La sintassi della funzione `print` diventa quindi\n",
        "1. `print(stringa)`\n",
        "2. `print(var1, var2, ..., varN)`\n",
        "usando questa seconda modalità non è necessario effettuare il _casting_ delle variabili a stringa in quanto questa operazione sarà fatta automaticamente dall'interprete Python."
      ],
      "metadata": {
        "id": "dBFhQHcf5NNW"
      }
    },
    {
      "cell_type": "code",
      "source": [
        "var1 = \"Ciao\"\n",
        "var2 = \"mondo\"\n",
        "var3 = 3\n",
        "var4 = True\n",
        "\n",
        "print(var1, var2, var3, var4)"
      ],
      "metadata": {
        "id": "Rxkrl_FX53FC"
      },
      "execution_count": null,
      "outputs": []
    },
    {
      "cell_type": "markdown",
      "source": [
        "# Esercizi\n"
      ],
      "metadata": {
        "id": "C2macd46icSG"
      }
    },
    {
      "cell_type": "markdown",
      "source": [
        "## Esercizio 0\n",
        "Date le tre variabili booleane `x`, `y`, e `z`, scrivere delle espressioni che valgono `True` quando:\n",
        "\n",
        "1. x, y, z valgono tutte e tre `True`.\n",
        "2. x è vera oppure y è vera, ma non entrambe.\n",
        "3. Esattamente una delle tre variabili è falsa.\n",
        "4. Esattamente una delle tre variabili è vera.\n",
        "\n"
      ],
      "metadata": {
        "id": "478weuYajUUX"
      }
    },
    {
      "cell_type": "code",
      "source": [],
      "metadata": {
        "id": "AqqSdwIGj5kE"
      },
      "execution_count": null,
      "outputs": []
    },
    {
      "cell_type": "markdown",
      "source": [
        "## Esercizio 1\n",
        "\n",
        "**Calcolare gli zeri della seguente equazione quadratica:** \n",
        "\n",
        "$$x^2 - 1 = 0$$"
      ],
      "metadata": {
        "id": "Sb8EP4G4ihqV"
      }
    },
    {
      "cell_type": "code",
      "source": [],
      "metadata": {
        "id": "QGuYGBklipOJ"
      },
      "execution_count": null,
      "outputs": []
    },
    {
      "cell_type": "markdown",
      "metadata": {
        "id": "ewbiFXVA_h5e"
      },
      "source": [
        "## Esercizio 2\n",
        "\n",
        "__Realizzare un programma che chieda all'utente di inserire due numeri ($ x_1 $ e $ x_2 $), calcolare la seguente operazione e visualizzarne il risultato ($ x $):__\n",
        "\n",
        "$$ x = \\frac {20 * x_1 - x_2} {x_2 + 3} $$\n"
      ]
    },
    {
      "cell_type": "code",
      "source": [],
      "metadata": {
        "id": "KB1u0aTCip0c"
      },
      "execution_count": null,
      "outputs": []
    },
    {
      "cell_type": "markdown",
      "source": [
        "## Esercizio 3\n",
        "\n",
        "Creare una stringa che abbia il seguente contenuto: il carattere \"x\" seguito sette spazi seguito dal carattere di backslash."
      ],
      "metadata": {
        "id": "jo-lYOr_m-8K"
      }
    },
    {
      "cell_type": "code",
      "source": [],
      "metadata": {
        "id": "Z4fgp-l4nKhc"
      },
      "execution_count": null,
      "outputs": []
    },
    {
      "cell_type": "markdown",
      "source": [
        "## Esercizio 4\n",
        "\n",
        "Date le stringhe \"Python\", \"è\", \"un linguaggio di\" e \"programmazione\", creare una stringa composta \"Python è un linguaggio di programmazione\" e poi replicarla cento volte."
      ],
      "metadata": {
        "id": "EOS2P5dRnYYr"
      }
    },
    {
      "cell_type": "code",
      "source": [],
      "metadata": {
        "id": "4mTs1AlMnyIO"
      },
      "execution_count": null,
      "outputs": []
    },
    {
      "cell_type": "markdown",
      "metadata": {
        "id": "yJ8lH07h8XQC"
      },
      "source": [
        "![level0_end.png](data:image/png;base64,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)"
      ]
    }
  ]
}