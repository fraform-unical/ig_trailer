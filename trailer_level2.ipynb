{
  "nbformat": 4,
  "nbformat_minor": 0,
  "metadata": {
    "colab": {
      "provenance": [],
      "collapsed_sections": [],
      "toc_visible": true
    },
    "kernelspec": {
      "name": "python3",
      "display_name": "Python 3"
    },
    "language_info": {
      "name": "python"
    }
  },
  "cells": [
    {
      "cell_type": "markdown",
      "metadata": {
        "id": "oA3La5pX7RmW"
      },
      "source": [
        "![level2.png](data:image/png;base64,iVBORw0KGgoAAAANSUhEUgAAAyAAAAC0CAYAAABsb0igAAAABmJLR0QAAAAAAAD5Q7t/AAAACXBIWXMAAC4jAAAuIwF4pT92AAAAB3RJTUUH5QgKDxAPBLHDyQAABOFJREFUeNrt3cuN2mAUgNHryLIENABtUAMNeEdFUwusqIASAIk9ZfAQG2eZDSgeHvZv+5xlMmLMjSHzCV9PFhFVAAAANOCPEQAAAAIEAAAQIAAAAAIEAAAQIAAAAAIEAAAQIAAAgAABAAAQIAAAgAABAAAQIAAAgAABAAAECAAAgAABAAAECAAAgAABAAAECAAAIEAAAAAECAAAIEAAAAAECAAAIEAAAAABAgAAIEAAAAABAgAAIEAAAAABAgAACBAAAAABAgAACBAAAAABAgAACBAAAAABAgAACBAAAECAAAAACBAAAECAAAAACBAAAECAAAAAAgQAAECAAAAAAgQAAECAAAAAAgQAABAgAAAAAgQAABAgAAAAAgQAABAgAACAAAEAABAgAACAAAEAABAgAACAAAEAAAQIAACAAAEAAAQIAACAAAEAAAQIAACAAAEAAAQIAAAgQAAAAAQIAAAgQAAAAAQIAAAgQAAAAAECAAAgQAAAAAECAAAgQAAAgFblRgD9V1VVra+7XC4xmUwMDOdxQs/nE7IscwIByfAJCAAAIEAAAAABAgAAIEAAAID0WUIHgC+qu2x+v99js9m89b3KsoyiKGodg8V0oC1ZRFTGAH4AinAXLJzHXT/u8/kc4/G43g8AAgRoiUuwAAAAAQIAAAgQAACAl1lCB4AvWq/Xtb7udrsZFjAIltBhACyh4zweBkvoQBe4BAsAABAgAACAAAEAABAgAABA+twFC0hW3aXjT3hlIbdvv+E69Xk7v80b6AefgAAAAAIEAAAQIAAAAAIEAABInyV0oDPu93tsNpu3HqMsyyiKwjDNuzG73a6xeQN0QRYRlTFAvzV5t6bUj++Td5Ny3P097iG9/gCa5hIsAABAgAAAAAIEAADgZZbQge68YeV5rFartx8D8wagPZbQYQD6soTe+BvkwJe5hzzvIb3+AJrmEiwAAECAAAAAAgQAAECAAAAA6XN7EqAzUlvSfbQ0/WhZfDweP1xEfrZ0ncrSsqXo7jmdTrVvVjCbzQwMECAAwOum02ntAAFoi0uwAAAAAQIAAAgQAACAl9kBAf69IeR5rFarjz/u8XiMn5+fp3+/3+8f/vl8Pm/k+CIilsvlRx7ncDjEaDT673OJiF89l0czul6vLx1jn+b9m/P4m98zlddfnvtvHUhfFhGVMUC/1b2r0rdst9tYLBZJH/ezO1Kl8m/w7ePr6rwf3XWszRmm+PpLbR4ALsECAAAECAAAIEAAAAAECAAAkD5L6AAAQGN8AgIAAAgQAABAgAAAAAgQAABAgAAAAAgQAABAgAAAAAIEAABAgAAAAAIEAABAgAAAAAIEAAAQIAAAAAIEAAAQIAAAAAIEAAAQIAAAgAABAAAQIAAAgAABAAAQIAAAgAABAAAECAAAgAABAAAECAAAgAABAAAECAAAIEAAAAAECAAAIEAAAAAECAAAIEAAAAAECAAAIEAAAAABAgAAIEAAAAABAgAAIEAAAAABAgAACBAAAAABAgAACBAAAAABAgAACBAAAECAAAAACBAAAECAAAAACBAAAECAAAAAAgQAAECAAAAAAgQAAECAAAAAAgQAABAgAAAAAgQAABAgAAAAAgQAABAgAAAAAgQAABAgAACAAAEAABAgAACAAAEAABAgAABAK/4CeVIQDbAmcZ0AAAAASUVORK5CYII=)"
      ]
    },
    {
      "cell_type": "markdown",
      "metadata": {
        "id": "zTTlOLr1iZK9"
      },
      "source": [
        "# Strutture dati"
      ]
    },
    {
      "cell_type": "markdown",
      "source": [
        "Per ora abbiamo studiato solo variabili in cui possiamo memorizzare un unico valore: un numero, una lettera, un testo... Non avete l'impressione che però sia troppo poco e limitante? È evidente che sia così. Per superare queste limitazioni vengono in nostro aiuto le __strutture di dati__. \n",
        "\n",
        "Le __strutture di dati__ sono variabili composte, questo significa che possiamo immagazzinare molti dati in esse. Esistono strutture dati di ogni tipo, in Python alcune di esse sono:\n",
        "\n",
        "* __Liste__\n",
        "* __Tuple__\n",
        "* __Insiemi__\n",
        "* __Dizionari__"
      ],
      "metadata": {
        "id": "Mm8uAGsv4fHx"
      }
    },
    {
      "cell_type": "markdown",
      "metadata": {
        "id": "S6CseOidjLej"
      },
      "source": [
        "## Liste"
      ]
    },
    {
      "cell_type": "markdown",
      "source": [
        "Supponiamo di voler salvare i nomi dei vostri migliori amici in una variabile. Un'ottima opzione per farlo è creare un elenco, una sequenza, una __lista__. Proprio come nella vita reale creiamo elenchi come ad esempio _lista delle cose da fare_ (che poi non faremo mai..), _lista della spesa_, ecc. anche in Python possiamo fare la stessa cosa usando per l'appunto questa struttura dati.\n",
        "\n",
        "In Python le liste sono delle strutture dati ***ordinate***, ***modificabili*** e ammettono ***elementi duplicati*** al loro interno. Questi elementi, inoltre, possono essere di __tipo diverso__.\n",
        "\n",
        "Per dichiarare una lista (variabile di tipo lista), useremo le parentesi quadre `[]`, e all'interno di esse inseriremo gli elementi separati da virgole.\n",
        "\n",
        "Dichiariamo quindi la nostra lista di amici (rappresentati come stringhe):"
      ],
      "metadata": {
        "id": "JTOz6-Xl4ZkM"
      }
    },
    {
      "cell_type": "code",
      "metadata": {
        "id": "Rw87CeTnj4qV"
      },
      "source": [
        "amici = ['Hadith', 'Pedrito', 'Ramona', 'Maribel', 'Galeano', 'Samir', 'Mahsa']"
      ],
      "execution_count": null,
      "outputs": []
    },
    {
      "cell_type": "markdown",
      "source": [
        "Per visualizzare a video il contenuto della nostra lista facciamo uso come al solito della funzione `print` passandole come argomento la variabile `amici`"
      ],
      "metadata": {
        "id": "AdgoexiUsfZk"
      }
    },
    {
      "cell_type": "code",
      "source": [
        "print(amici)"
      ],
      "metadata": {
        "id": "NxAx_nYistq0"
      },
      "execution_count": null,
      "outputs": []
    },
    {
      "cell_type": "markdown",
      "source": [
        "_Nota: posso anche creare una lista vuota, ovvero senza elementi, semplicemente aprendo e chiudendo le parentesi quadre_"
      ],
      "metadata": {
        "id": "WJHgTmA_9dzU"
      }
    },
    {
      "cell_type": "code",
      "source": [
        "lista_vuota = []"
      ],
      "metadata": {
        "id": "yUt-ueR59pqZ"
      },
      "execution_count": null,
      "outputs": []
    },
    {
      "cell_type": "markdown",
      "source": [
        "Ma cosa vuol dire che una lista è una struttura dati **ordinata**? Come possiamo vedere dall'output prodotto dalla funzione print, gli elementi della nostra lista appaiono **nello stesso ordine** in cui li abbiamo definiti (inseriti).\n",
        "\n",
        "Più semplicemente si ha che, date ad esempio due liste `a` e `b` \n",
        "\n",
        "```\n",
        "a = [1, 2, 3, 1]\n",
        "b = [1, 3, 2, 1]\n",
        "```\n",
        "\n",
        "nonostante esse contengano gli stessi elementi le due liste sono invece diverse poichè gli elementi sono definiti al loro interno con un ordine diverso, provare per credere"
      ],
      "metadata": {
        "id": "wpYW5oQetBiW"
      }
    },
    {
      "cell_type": "code",
      "source": [
        "a = [1, 2, 3, 1]\n",
        "b = [1, 3, 2, 1]\n",
        "\n",
        "uguali = (a == b)\n",
        "\n",
        "print(uguali)"
      ],
      "metadata": {
        "id": "5nftLU3zt8m0"
      },
      "execution_count": null,
      "outputs": []
    },
    {
      "cell_type": "markdown",
      "metadata": {
        "id": "Z6TCOLWGkGLF"
      },
      "source": [
        "Abbiamo visto come visualizzare tutti gli elementi contenuti all'interno della nostra lista, ma se volessimo invece accedere solo a uno degli elementi? Così come abbiamo visto per le stringhe, anche in questo caso, avendo a che fare con una sequenza di elementi, faremo uso degli __indici__. Ad ogni elemento della lista possiamo infatti associare un numero che indica la sua posizione all'interno della lista. Anche in questo caso il primo elemento della lista si troverà in posizione con indice **0** e l'ultimo in posizione **num_elementi_lista-1**.\n",
        "\n",
        "| Elemento | Posizione |\n",
        "|:--------: |:--------: |\n",
        "| Hadis | 0 |\n",
        "| Pedrito | 1 |\n",
        "| Ramona | 2 |\n",
        "| Maribel | 3 |\n",
        "| Galeano | 4 |\n",
        "| Samir | 5 |\n",
        "| Mahsa | 6 |\n",
        "\n",
        "Quindi, se, ad esempio, volessimo mostrare solo il nostro primo amico, dovremmo accedere nella nostra lista tramite l'indice 0:"
      ]
    },
    {
      "cell_type": "code",
      "metadata": {
        "id": "_KBHRBvllRg-"
      },
      "source": [
        "amici[0]"
      ],
      "execution_count": null,
      "outputs": []
    },
    {
      "cell_type": "markdown",
      "metadata": {
        "id": "7iUI3Vt_lZBM"
      },
      "source": [
        "Se tentassimo di accedere a un indice superiore all'ultimo (<u>__in questo caso__</u> pari a 6), otterremo un errore:"
      ]
    },
    {
      "cell_type": "code",
      "metadata": {
        "id": "NMJ5gKtblxWk"
      },
      "source": [
        "amici[7]"
      ],
      "execution_count": null,
      "outputs": []
    },
    {
      "cell_type": "markdown",
      "source": [
        "Così come per le stringhe se vogliamo sapere la lunghezza della nostra lista, **ovvero il numero di elementi** in essa contenuti, possiamo far uso della funzione `len`"
      ],
      "metadata": {
        "id": "D63f9Hu9xIr7"
      }
    },
    {
      "cell_type": "code",
      "source": [
        "num_elementi = len(amici)\n",
        "print(\"la lista ha \"+ str(num_elementi) + \" elementi\")"
      ],
      "metadata": {
        "id": "1Ah9-wqgxW74"
      },
      "execution_count": null,
      "outputs": []
    },
    {
      "cell_type": "markdown",
      "source": [
        "Ricapitolando gli indici associati a ciascun elemento di una lista sono compresi nell'intervallo $[0,\\ len(LISTA)-1]$.\n"
      ],
      "metadata": {
        "id": "TJDG_MJjxnKZ"
      }
    },
    {
      "cell_type": "markdown",
      "source": [
        "###Domanda\n",
        "Che risultato produce il seguente frammento di codice?\n",
        "```\n",
        "l = []\n",
        "print(len(l))\n",
        "```"
      ],
      "metadata": {
        "id": "w2RLDBssR-CI"
      }
    },
    {
      "cell_type": "markdown",
      "metadata": {
        "id": "OB-wCXjOlyx5"
      },
      "source": [
        "A questo punto si potrebbe pensare che siamo un qualche modo _obbligati_ a conoscere la lunghezza della lista se volessimo accedere all'ultimo elemento, ma niente è più lontano dalla verità! In Python infatti possiamo far uso degli  indici inversi (negativi) che ci permettono di accedere agli elementi della lista partendo dalla fine (ultima posizione) invece che dall'inizio.\n",
        "\n",
        "Con riferimento alla nostra lista di amici avremo che:\n",
        "\n",
        "| Elemento | Posizione |\n",
        "|:--------: |:--------: |\n",
        "| Hadis | -7 |\n",
        "| Pedrito | -6 |\n",
        "| Ramona | -5 |\n",
        "| Maribel | -4 |\n",
        "| Galeano | -3 |\n",
        "| Samir | -2 |\n",
        "| Mahsa | -1\n",
        "\n",
        "Quindi per accedere all'ultimo elemento della nostra lista dovremmo semplicemente usare l'indice -1:"
      ]
    },
    {
      "cell_type": "code",
      "metadata": {
        "id": "qYYsvD-Dmdh0"
      },
      "source": [
        "amici[-1]"
      ],
      "execution_count": null,
      "outputs": []
    },
    {
      "cell_type": "markdown",
      "source": [
        "_Nota: il significato dell'indice negativo altro non è che un'abbreviazione della notazione len(LISTA) - INDICE.\n",
        "Ad esempio:_\n",
        "\n",
        "```\n",
        "l = [1,2,3]\n",
        "# la lunghezza della lista è pari a len(l)\n",
        "# possiamo accedere all'ultimo elemento della lista tramite l'indice negativo -1\n",
        "\n",
        "x = l[-1]\n",
        "\n",
        "# o in maniera equivalente\n",
        "x2 = l[len(l)-1]\n",
        "```"
      ],
      "metadata": {
        "id": "1D1S7yRiy7e4"
      }
    },
    {
      "cell_type": "code",
      "source": [
        "l = [1,2,3]\n",
        "\n",
        "x = l[-1]\n",
        "x2 = l[len(l)-1]\n",
        "\n",
        "print(x == x2)"
      ],
      "metadata": {
        "id": "tud7BRDUz3lj"
      },
      "execution_count": null,
      "outputs": []
    },
    {
      "cell_type": "markdown",
      "source": [
        "d'altronde, sempre facendo riferimento alla notazione con indici negativi, si ha che l'indice relativo alla prima posizione, ovvero l'indice 0, è uguale a len(l) - len(l)..."
      ],
      "metadata": {
        "id": "oSYEnf4p0AV3"
      }
    },
    {
      "cell_type": "markdown",
      "source": [
        "La differenza sostanziale che esiste tra liste e stringhe sta nel fatto che le liste sono oggetti ***mutabili*** ovvero possiamo modificarne direttamente il contenuto.\n",
        "\n",
        "Se ad esempio volessimo cambiare il valore di un particolare elemento possiamo farlo semplicemente così:\n",
        "\n",
        "```\n",
        "l = [1, 2, 3]\n",
        "\n",
        "# sostituisco il secondo valore della lista con il numero 100\n",
        "l[1] = 100\n",
        "```"
      ],
      "metadata": {
        "id": "yGsxyuEj0z0l"
      }
    },
    {
      "cell_type": "code",
      "source": [
        "l = [1, 2, 3]\n",
        "print(l)\n",
        "\n",
        "l[1] = 100\n",
        "print(l)"
      ],
      "metadata": {
        "id": "ApZM_pTe1V_G"
      },
      "execution_count": null,
      "outputs": []
    },
    {
      "cell_type": "markdown",
      "metadata": {
        "id": "yrOrS4uxmnhl"
      },
      "source": [
        "Un'altra cosa che possiamo fare usando gli indici è **creare** una sottolista utilizzando l'operatore `:` (slice). La sintassi è la stessa vista per le stringhe, ovvero\n",
        "\n",
        "```\n",
        "lista[START:STOP]\n",
        "```\n",
        "\n",
        "che equivale a ottenere una **nuova lista** così costituita:\n",
        "\n",
        "`[lista[START], lista[START+1], ..., lista[STOP-1]`\n",
        "\n",
        "Ad esempio, se volessimo mostrare i primi 3 amici, scriveremo"
      ]
    },
    {
      "cell_type": "code",
      "metadata": {
        "id": "fHF-U-XlmxcZ"
      },
      "source": [
        "amici[0:3]"
      ],
      "execution_count": null,
      "outputs": []
    },
    {
      "cell_type": "markdown",
      "metadata": {
        "id": "z8wx6HDcm9ED"
      },
      "source": [
        "o equivalentemente"
      ]
    },
    {
      "cell_type": "code",
      "metadata": {
        "id": "GbG8HkUnnBPL"
      },
      "source": [
        "amici[:3]"
      ],
      "execution_count": null,
      "outputs": []
    },
    {
      "cell_type": "markdown",
      "metadata": {
        "id": "l8PDEUiYnJ96"
      },
      "source": [
        "E se invece volessimo sapere gli amici dal ***quarto*** in poi? Semplice, basta fare semplicemente il contrario!"
      ]
    },
    {
      "cell_type": "code",
      "metadata": {
        "id": "mJ_ZH44inQQK"
      },
      "source": [
        "amici[3:]"
      ],
      "execution_count": null,
      "outputs": []
    },
    {
      "cell_type": "markdown",
      "metadata": {
        "id": "0d1u8GAgtP47"
      },
      "source": [
        "Ovviamente, poichè abbiamo detto che tramite l'operatore `:` si generano delle sottoliste, possiamo anche assegnare ad una nuova variabile il risultato di questa operazione:"
      ]
    },
    {
      "cell_type": "code",
      "metadata": {
        "id": "CaaGgJ_ptcCJ"
      },
      "source": [
        "sottolista = amici[3:]\n",
        "sottolista"
      ],
      "execution_count": null,
      "outputs": []
    },
    {
      "cell_type": "markdown",
      "source": [
        "Infine è bene precisare che è possible inoltre usare anche indici negativi per effettuare lo slice (lo stesso vale per le stringhe)."
      ],
      "metadata": {
        "id": "R5Us6LG0RGDE"
      }
    },
    {
      "cell_type": "markdown",
      "source": [
        "### Domanda"
      ],
      "metadata": {
        "id": "AG0eDcj7SOKE"
      }
    },
    {
      "cell_type": "markdown",
      "source": [
        "Ad esempio, data la lista `l = [1, 2, 3, 4]` cosa otteniamo se eseguiamo questa istruzione?\n",
        "\n",
        "```\n",
        "sottolista = l[1:-2]\n",
        "```\n",
        "\n",
        "e eseguendo questa?\n",
        "\n",
        "```\n",
        "sottolista = l[-3:-2]\n",
        "```\n"
      ],
      "metadata": {
        "id": "pqa4TelvSP8r"
      }
    },
    {
      "cell_type": "markdown",
      "metadata": {
        "id": "c9c_-Gwdnbth"
      },
      "source": [
        "### Esercizio\n",
        "__Creare una lista della spesa e stampare i seguenti articoli__:\n",
        "\n",
        "* __Penultimo elemento__\n",
        "* __Dal secondo al quarto elemento__\n",
        "* __Gli ultimi tre__\n",
        "* __Tutti!__\n"
      ]
    },
    {
      "cell_type": "code",
      "metadata": {
        "id": "XXybeIJbno4R"
      },
      "source": [],
      "execution_count": null,
      "outputs": []
    },
    {
      "cell_type": "markdown",
      "metadata": {
        "id": "uMynd8gxnpGl"
      },
      "source": [
        "### Operazioni sulle liste\n",
        "Poichè abbiamo detto che le liste sono delle \"varaibili speciali\" è naturale pensare che anche su di esse sia possibile effettuare operazioni per modificarne il contenuto. Abbiamo visto un primo modo per modificare il valore di un elemento, ma possiamo fare di più, ad esempio è possibile:\n",
        "\n",
        "* aggiungere un elemento in fondo alla lista (append)\n"
      ]
    },
    {
      "cell_type": "code",
      "metadata": {
        "id": "b7JZm_sJp0Wa"
      },
      "source": [
        "amici.append(\"Irma\")\n",
        "print(amici)"
      ],
      "execution_count": null,
      "outputs": []
    },
    {
      "cell_type": "markdown",
      "metadata": {
        "id": "0Bh18Jumt1TO"
      },
      "source": [
        "* rimuovere l'ultimo elemento della lista (pop)"
      ]
    },
    {
      "cell_type": "code",
      "metadata": {
        "id": "XgSP6Papt42H"
      },
      "source": [
        "amici.pop()\n",
        "print(amici)"
      ],
      "execution_count": null,
      "outputs": []
    },
    {
      "cell_type": "markdown",
      "metadata": {
        "id": "3khIQgk6uA4u"
      },
      "source": [
        "* aggiungere un elemento in una posizione specifica (insert)"
      ]
    },
    {
      "cell_type": "code",
      "metadata": {
        "id": "ASaB4HkyuIys"
      },
      "source": [
        "amici.insert(2, \"Irma\")\n",
        "print(amici)"
      ],
      "execution_count": null,
      "outputs": []
    },
    {
      "cell_type": "markdown",
      "metadata": {
        "id": "9CdnsNj5uPXB"
      },
      "source": [
        "* eliminare un elemento in una posizione specifica (pop)"
      ]
    },
    {
      "cell_type": "code",
      "metadata": {
        "id": "NxbR3YH2uSLH"
      },
      "source": [
        "amici.pop(2)\n",
        "print(amici)"
      ],
      "execution_count": null,
      "outputs": []
    },
    {
      "cell_type": "markdown",
      "metadata": {
        "id": "AeEG_U5rwJWQ"
      },
      "source": [
        "* eliminare uno specifico elemento (se esiste) (remove)"
      ]
    },
    {
      "cell_type": "code",
      "metadata": {
        "id": "nWIGnv2CwKHw"
      },
      "source": [
        "amici.remove('Pedrito')\n",
        "print(amici)"
      ],
      "execution_count": null,
      "outputs": []
    },
    {
      "cell_type": "markdown",
      "source": [
        "* concatenare (gli elementi di) due (o più) liste"
      ],
      "metadata": {
        "id": "aoib2WKU7ri0"
      }
    },
    {
      "cell_type": "code",
      "source": [
        "x = [1,2,3]\n",
        "y = [4,5,6]\n",
        "\n",
        "z = x + y\n",
        "\n",
        "print(z)"
      ],
      "metadata": {
        "id": "fz2d0T8-7xFw"
      },
      "execution_count": null,
      "outputs": []
    },
    {
      "cell_type": "markdown",
      "metadata": {
        "id": "joTmPe7fwenC"
      },
      "source": [
        "### Iterare sulle liste\n",
        "Con i cicli (loop) possiamo iterare sugli elementi di una lista. Abbiamo due possibilità: la prima fa uso della notazione con gli indici, ovvero accediamo ai singoli elementi della lista mediante la notazione:\n",
        "\n",
        "`lista[indice]`\n",
        "\n",
        "Ricordando quanto detto per l'istruzione `for` possiamo quindi generare la sequenza di tutti gli indici validi relativi agli elementi della nostra lista tramite la funzione `range`, e iterare poi su di essi"
      ]
    },
    {
      "cell_type": "code",
      "metadata": {
        "id": "IGMPqbTdw3oR"
      },
      "source": [
        "for idx in range(len(amici)):\n",
        "    print(amici[idx])"
      ],
      "execution_count": null,
      "outputs": []
    },
    {
      "cell_type": "markdown",
      "metadata": {
        "id": "d4dXWaLNxAnN"
      },
      "source": [
        "Esiste però un modo molto più comodo per scorrere i valori di una lista (sequenza) senza dover essere a conoscenza del generico indice `idx`. Questo metodo prevede di sfruttare a pieno la potenza espressiva di Python e in particolare fa uso la capacità del `for` di iterare sulle **sequenze**. \n",
        "\n",
        "Ricordiamo la sintassi dell'istruzione `for`\n",
        "\n",
        "```\n",
        "for ELEMENTO in SEQUENZA:\n",
        "  istruzione che opera su ELEMENTO\n",
        "```\n",
        "\n",
        "Poichè abbiamo detto che una lista **è una sequenza di elementi** possiamo scrivere allora:"
      ]
    },
    {
      "cell_type": "code",
      "metadata": {
        "id": "sLgj5rN1xHZF"
      },
      "source": [
        "for amico in amici:\n",
        "  print(amico)"
      ],
      "execution_count": null,
      "outputs": []
    },
    {
      "cell_type": "markdown",
      "source": [
        "che si \"legge\" come: per ogni `amico` della lista `amici`.."
      ],
      "metadata": {
        "id": "oEdZcxLm6xxI"
      }
    },
    {
      "cell_type": "markdown",
      "metadata": {
        "id": "vJiqTRyDyGRR"
      },
      "source": [
        "### Esercizio\n",
        "\n",
        "__Crea una lista contenente tutti i numeri pari da 0 a 10.__"
      ]
    },
    {
      "cell_type": "code",
      "source": [],
      "metadata": {
        "id": "HPo2IO65psPX"
      },
      "execution_count": null,
      "outputs": []
    },
    {
      "cell_type": "markdown",
      "source": [
        "### Esercizio\n",
        "\n",
        "Scrivere un programma che crea una lista a partire dai valori letti da tastiera. (Se l'utente inserisce il carattere 'x' la lettura termina)"
      ],
      "metadata": {
        "id": "InDJF9a68Ket"
      }
    },
    {
      "cell_type": "code",
      "source": [],
      "metadata": {
        "id": "xN9egeU28eRg"
      },
      "execution_count": null,
      "outputs": []
    },
    {
      "cell_type": "markdown",
      "source": [
        "## Tuple"
      ],
      "metadata": {
        "id": "jwfbBcdfprFG"
      }
    },
    {
      "cell_type": "markdown",
      "source": [
        "Le tuple sono liste ***immutabili***. Per definire una tupla si fa uso delle parentesi tonde `()` e all'interno di esse inseriremo gli elementi separati da virgole:\n",
        "\n",
        "```\n",
        "t = (1, 2, 3)\n",
        "```\n",
        "\n",
        "Se volessimo creare una tupla con un solo elemento dobbiamo ricordare di inserire comunque la virgola l'elemento:\n",
        "\n",
        "```\n",
        "t = (1,)\n",
        "```"
      ],
      "metadata": {
        "id": "4V7f9nMo4RxD"
      }
    },
    {
      "cell_type": "code",
      "source": [
        "t = (1,)\n",
        "print(type(t))\n",
        "\n",
        "t2 = (1)\n",
        "print(type(t2))"
      ],
      "metadata": {
        "id": "3XxrHg3o-LAj"
      },
      "execution_count": null,
      "outputs": []
    },
    {
      "cell_type": "markdown",
      "source": [
        "Possiamo ovviamente creare anche una tupla vuota (ovvero senza elementi) mediante la notazione:\n",
        "\n",
        "```\n",
        "t = ()\n",
        "```"
      ],
      "metadata": {
        "id": "OGlROuauUR2Z"
      }
    },
    {
      "cell_type": "markdown",
      "source": [
        "Per quanto riguarda la lunghezza (`len`), l'accesso agli elementi della tupla (`t[idx]`), allo slicing (`[t[idx1:idx2]`) e all'iterazione, valgono le stesse considerazioni fatte per le liste (o per meglio dire per le stringhe essendo anche esse oggetti immutabili)."
      ],
      "metadata": {
        "id": "7dAyfiVS-pox"
      }
    },
    {
      "cell_type": "code",
      "source": [
        "t = (1, 2, 3)\n",
        "\n",
        "print(len(t))"
      ],
      "metadata": {
        "id": "JF9joETA_NOd"
      },
      "execution_count": null,
      "outputs": []
    },
    {
      "cell_type": "code",
      "source": [
        "print(t[0])"
      ],
      "metadata": {
        "id": "781P-QUA_jDK"
      },
      "execution_count": null,
      "outputs": []
    },
    {
      "cell_type": "code",
      "source": [
        "t[0] = 5"
      ],
      "metadata": {
        "id": "RrB_SlmX_rXx"
      },
      "execution_count": null,
      "outputs": []
    },
    {
      "cell_type": "code",
      "source": [
        "t2 = t[1:]\n",
        "print(type(t2))\n",
        "print(t2)"
      ],
      "metadata": {
        "id": "xLdq8a8N_lBD"
      },
      "execution_count": null,
      "outputs": []
    },
    {
      "cell_type": "code",
      "source": [
        "for elemento in t:\n",
        "  print(elemento)"
      ],
      "metadata": {
        "id": "V3juJtsI_nPn"
      },
      "execution_count": null,
      "outputs": []
    },
    {
      "cell_type": "markdown",
      "source": [
        "### Esercizio"
      ],
      "metadata": {
        "id": "Q7dmA9Rq4QXU"
      }
    },
    {
      "cell_type": "markdown",
      "source": [
        "Calcolare la distanza Euclidea tra i due punti (letti da tastiera):\n",
        "\n",
        "$$d((x1,y1,z1),(x2,y2,z2)) = \\sqrt{(x1-x2)^2 + (y1-y2)^2 + (z1-z2)^2}$$\n"
      ],
      "metadata": {
        "id": "G6cZ9nqX-VVm"
      }
    },
    {
      "cell_type": "code",
      "source": [],
      "metadata": {
        "id": "mmSVqWbY-q75"
      },
      "execution_count": null,
      "outputs": []
    },
    {
      "cell_type": "markdown",
      "source": [
        "## Insiemi"
      ],
      "metadata": {
        "id": "szx2mGHUpu7h"
      }
    },
    {
      "cell_type": "markdown",
      "source": [
        "Un insieme (set) è una struttura dati ***immutabile***, ***non ordinata*** e ***senza elementi duplicati***. Solitamente gli insiemi sono usati per effettuare test dell'appartenenza e per eliminare delle voci duplicate all'interno di una sequenza. \n",
        "\n",
        "Gli insiemi supportano anche operazioni matematiche come unione, intersezione, differenza e differenza simmetrica.\n",
        "\n",
        "Per creare un insieme vuoto dobbiamo usare la seguente istruzione\n",
        "\n",
        "```\n",
        "insieme_vuoto = set()\n",
        "```\n",
        "\n",
        "in quanto se usassimo unicamente la notazione\n",
        "\n",
        "```\n",
        "x = ()\n",
        "```\n",
        "\n",
        "creeremmo una tupla vuota"
      ],
      "metadata": {
        "id": "hkMDU-OyA2_x"
      }
    },
    {
      "cell_type": "code",
      "source": [
        "s = set()\n",
        "print(type(s))\n",
        "\n",
        "x = ()\n",
        "print(type(x))"
      ],
      "metadata": {
        "id": "9SV_iK5RBK1D"
      },
      "execution_count": null,
      "outputs": []
    },
    {
      "cell_type": "markdown",
      "source": [
        "Se invece vogliamo creare un insieme con alcuni elementi al suo iterno si fa uso delle parentesi graffe `{}`\n",
        "\n",
        "```\n",
        "s = {1, 2, 3}\n",
        "```\n",
        "\n",
        "Abbiamo detto che un insieme non ammette duplicati. Vediamo questo cosa vuol dire"
      ],
      "metadata": {
        "id": "k6doEYhdBQgR"
      }
    },
    {
      "cell_type": "code",
      "source": [
        "s = {1, 2, 3}\n",
        "print(s)\n",
        "\n",
        "s2 = {1, 2, 3, 1, 1, 2, 4}\n",
        "print(s2)"
      ],
      "metadata": {
        "id": "H15vIg_NByx0"
      },
      "execution_count": null,
      "outputs": []
    },
    {
      "cell_type": "markdown",
      "source": [
        "Quindi nonostante in fase di dichiarazione e assegnazione della variabile `s2` abbiamo specificato più volte gli elementi `1` e `2`, il set automaticamente elimina questi duplicati al suo interno.\n",
        "\n",
        "Poichè un insieme ***non è ordinato***, l'accesso tramite indice non è permesso (e di conseguenza anche lo slicing non lo è).\n",
        "\n",
        "Per quanto riguarda invece l'iterazione, la sintassi resta quella vista per liste e tuple."
      ],
      "metadata": {
        "id": "_HpxQZQpCQdV"
      }
    },
    {
      "cell_type": "markdown",
      "source": [
        "## Dizionari"
      ],
      "metadata": {
        "id": "m2ky_oQYpwnF"
      }
    },
    {
      "cell_type": "markdown",
      "source": [
        "Un dizionario (consociuto in altri linguaggi come *memoria associativa* o *array associativo*) è una struttura dati ***ordinata*** (a partire dalla versione 3.7 del linguaggio), ***modificabile*** e che ***non ammette duplicati***.\n",
        "\n",
        "I dizionari sono usati per memorizzare dati sotto forma di coppie `chiave:valore`, dove la chiave è può essere di un qualsiasi tipo di dato ***immutabile*** (es: stringhe, numeri), mentre il valore può essere di qualsiasi tipo di dato. \n",
        "\n",
        "Possiamo quindi pensare ad un dizionario come ad un insieme di coppie chiave:valore.\n",
        "\n",
        "In Python per dichiarare un dizionario si fa uso delle parentesi graffe `{}` e le varie (evenutali) coppie sono separate da virgole.\n",
        "\n",
        "```\n",
        "d = { chiave1: valore1, chiave2: valore2, ...}\n",
        "```\n",
        "\n",
        "posso anche dichiarare un dizionario vuoto, scrivendo semplicemente\n",
        "\n",
        "```\n",
        "d = {}\n",
        "```\n"
      ],
      "metadata": {
        "id": "Az6nOYUxDsRZ"
      }
    },
    {
      "cell_type": "code",
      "source": [
        "d = { \"nome\": \"Mahsa\", \"età\": 22 }\n",
        "print(d)"
      ],
      "metadata": {
        "id": "H8HEzEF-JnqU"
      },
      "execution_count": null,
      "outputs": []
    },
    {
      "cell_type": "markdown",
      "source": [
        "Il fatto che un dizionario non ammette duplicati si traduce nel fatto che non possono esistere nel dizionario due o più coppie con la stessa chiave (i valori ovviamente possono invece esserlo).\n",
        "\n",
        "Vediamo cosa accade se non rispettiamo questa indicazione:"
      ],
      "metadata": {
        "id": "2vFTpSMlJw_S"
      }
    },
    {
      "cell_type": "code",
      "source": [
        "d = {\"k1\": 1, \"k1\": 2}\n",
        "print(d)"
      ],
      "metadata": {
        "id": "3Rc4DL04KGec"
      },
      "execution_count": null,
      "outputs": []
    },
    {
      "cell_type": "markdown",
      "source": [
        "A differenza delle sequenze, che sono indicizzate da un indice (o da un intervallo), i dizionari sono invece indicizzati dalle chiavi. Consideriamo ad esempio il seguente dizionario che rappresenta un elenco telefonico\n",
        "\n",
        "```\n",
        "elenco_tel = { \"interno1\": 1234, \"interno2\": 1235, \"interno3\": 1236}\n",
        "```\n",
        "\n",
        "se volessimo sapere il numero di telefono associato all'`interno1` dovremmo scrivere\n",
        "\n",
        "```\n",
        "num_interno1 = elenco_tel[\"interno1\"]\n",
        "```"
      ],
      "metadata": {
        "id": "g5gri5y9LrvJ"
      }
    },
    {
      "cell_type": "code",
      "source": [
        "elenco_tel = { \"interno1\": 1234, \"interno2\": 1235, \"interno3\": 1236}\n",
        "num_interno1 = elenco_tel[\"interno1\"]\n",
        "print(num_interno1)"
      ],
      "metadata": {
        "id": "iaQpnk5a7N4D"
      },
      "execution_count": null,
      "outputs": []
    },
    {
      "cell_type": "markdown",
      "source": [
        "ovvero la sintassi generica per accedere al ***valore associato ad una determinata chiave*** è:\n",
        "\n",
        "```\n",
        "valore = dizionario[chiave]\n",
        "```\n",
        "\n",
        "ovviamente se la chiave specificata non è presente all'interno del nostro dizionario otterremo un errore"
      ],
      "metadata": {
        "id": "R8lH6lEhMoGL"
      }
    },
    {
      "cell_type": "code",
      "source": [
        "num_interno5 = elenco_tel[\"interno5\"]"
      ],
      "metadata": {
        "id": "nWWEz-zoPm0Z"
      },
      "execution_count": null,
      "outputs": []
    },
    {
      "cell_type": "markdown",
      "source": [
        "Per conoscere il numero di coppie `chiave:valore` presenti all'interno di un dizionario faremo uso della solita funzione `len`"
      ],
      "metadata": {
        "id": "GlyhsRhjRGOj"
      }
    },
    {
      "cell_type": "code",
      "source": [
        "print(len(elenco_tel))"
      ],
      "metadata": {
        "id": "ksbW3EmLRQZ9"
      },
      "execution_count": null,
      "outputs": []
    },
    {
      "cell_type": "markdown",
      "source": [
        "Poichè abbiamo definito i dizionari come oggetti mutabili, ci aspettiamo che esista un modo sia per poter modificare un valore associato ad una chiave, che per poter aggiungere nuove coppie chiave:valore o anche per rimuoverne.\n",
        "\n",
        "Iniziamo col vedere come **modificare** il valore associato ad una chiave esistente. In modo del tutto simile a quanto visto per le liste possiamo scrivere\n",
        "\n",
        "```\n",
        "dizionario[chiave] = nuovo_valore\n",
        "```\n",
        "\n",
        "Modifichiamo ad esempio il numero dell'`interno1` del nostro elenco telefonico"
      ],
      "metadata": {
        "id": "37sseFZwNbmJ"
      }
    },
    {
      "cell_type": "code",
      "source": [
        "print(elenco_tel)\n",
        "elenco_tel[\"interno1\"] = 1238\n",
        "print(elenco_tel)"
      ],
      "metadata": {
        "id": "FT2F1Up2OF8j"
      },
      "execution_count": null,
      "outputs": []
    },
    {
      "cell_type": "markdown",
      "source": [
        "E se invece volessimo **inserire una nuova coppia** chiave:valore? Ebbene per nostra fortuna la sintassi è la stessa di quella usata per modificare il valore, per cui in entrambi i casi useremo la stessa istruzione\n",
        "\n",
        "```\n",
        "dizionario[chiave] = nuovo_valore\n",
        "```\n",
        "\n",
        "Aggiungiamo quindi al nostro elenco telefonico un nuovo numero (valore) associato ad un **nuovo** interno (chiave)"
      ],
      "metadata": {
        "id": "yzQgEk6IOql2"
      }
    },
    {
      "cell_type": "code",
      "source": [
        "elenco_tel[\"interno4\"] = 1239\n",
        "print(elenco_tel)"
      ],
      "metadata": {
        "id": "bJ5iYKRLPKwD"
      },
      "execution_count": null,
      "outputs": []
    },
    {
      "cell_type": "markdown",
      "source": [
        "Resta da vedere come eliminare dal dizionario un elemento (una coppia chiave:valore)"
      ],
      "metadata": {
        "id": "Zn7iQr8fRvut"
      }
    },
    {
      "cell_type": "markdown",
      "source": [
        "### Operazioni sui dizionari"
      ],
      "metadata": {
        "id": "X0BUSrL6R7V9"
      }
    },
    {
      "cell_type": "markdown",
      "source": [
        "Di seguito sono mostrati **alcuni** dei metodi messi a disposizione dalla classe `dict` per operare sui dizionari\n",
        "\n",
        "* rimozione di un elemento (del)\n",
        "```\n",
        "del dizionario[chiave]\n",
        "```"
      ],
      "metadata": {
        "id": "AmTSkTvW4tQ5"
      }
    },
    {
      "cell_type": "code",
      "source": [
        "del elenco_tel[\"interno4\"]\n",
        "print(elenco_tel)"
      ],
      "metadata": {
        "id": "a_Xe6_lKURSD"
      },
      "execution_count": null,
      "outputs": []
    },
    {
      "cell_type": "markdown",
      "source": [
        "* ottenimento della **lista** delle chiavi\n",
        "```\n",
        "dizionario.keys()\n",
        "```"
      ],
      "metadata": {
        "id": "26XathDvUZ8B"
      }
    },
    {
      "cell_type": "code",
      "source": [
        "chiavi = elenco_tel.keys()\n",
        "print(chiavi)\n",
        "print(type(chiavi))"
      ],
      "metadata": {
        "id": "IK7KghZeUcBW"
      },
      "execution_count": null,
      "outputs": []
    },
    {
      "cell_type": "markdown",
      "source": [
        "* ottenimento della **lista** dei valori associati a ciascuna chiave\n",
        "```\n",
        "dizionario.values()\n",
        "```"
      ],
      "metadata": {
        "id": "g20Ufdq0Uk0V"
      }
    },
    {
      "cell_type": "code",
      "source": [
        "valori = elenco_tel.values()\n",
        "print(valori)\n",
        "print(type(valori))"
      ],
      "metadata": {
        "id": "KctjokxVUmwO"
      },
      "execution_count": null,
      "outputs": []
    },
    {
      "cell_type": "markdown",
      "source": [
        "* ottenimento delle coppie chiave:valore\n",
        "```\n",
        "dizionario.items()\n",
        "```"
      ],
      "metadata": {
        "id": "-f8omffWUv6O"
      }
    },
    {
      "cell_type": "code",
      "source": [
        "coppie = elenco_tel.items()\n",
        "print(coppie)\n",
        "print(type(coppie))"
      ],
      "metadata": {
        "id": "FiNRsYhAU5Zt"
      },
      "execution_count": null,
      "outputs": []
    },
    {
      "cell_type": "markdown",
      "source": [
        "### Iterare sui dizionari"
      ],
      "metadata": {
        "id": "XuOoS7biVN24"
      }
    },
    {
      "cell_type": "markdown",
      "source": [
        "L'iterazione sugli elementi (coppie chiave:valore) di un dizionario si effettua sempre tramite l'istruzione `for` ma è necessario prestare un po' di attenzione.\n",
        "\n",
        "Vediamo cosa accade scrivendo il nostro ciclo `for` così come abbiamo fatto per le liste"
      ],
      "metadata": {
        "id": "53b66D-FVQpY"
      }
    },
    {
      "cell_type": "code",
      "source": [
        "for elemento in elenco_tel:\n",
        "  print(elemento)"
      ],
      "metadata": {
        "id": "mdhclyFsWEF6"
      },
      "execution_count": null,
      "outputs": []
    },
    {
      "cell_type": "markdown",
      "source": [
        "Il risultato ottenuto ci apparire \"strano\" in quanto il generico `elemento` retituito dal `for` altro non è che una `chiave` del dizionario.\n",
        "\n",
        "Supponiamo di voler stampare a video, per ciascuna coppia del dizionario, la stringa \"chiave = CHIAVE ; valore = VALORE\" (dove CHIAVE è la generica chiave del dizionario e VALORE il valore ad essa associato). Come è possibile ottenere questo risultato? Esistono diversi modi per portare a termine questo compito e in particolare possiamo:\n",
        "\n",
        "1. iterare sulla lista delle chiavi e da qui estrarre il corrispondente valore\n",
        "\n"
      ],
      "metadata": {
        "id": "xz5Jn-6eWKSs"
      }
    },
    {
      "cell_type": "code",
      "source": [
        "for chiave in elenco_tel.keys():\n",
        "  valore = elenco_tel[chiave]\n",
        "  print(\"chiave = \"+str(chiave)+\" ; valore = \"+str(valore))\n",
        "  # print(\"chiave =\", chiave, \"; valore =\", valore)"
      ],
      "metadata": {
        "id": "nFNx5Ejb3Xnf"
      },
      "execution_count": null,
      "outputs": []
    },
    {
      "cell_type": "markdown",
      "source": [
        "\n",
        "2. iterare sulla lista delle coppie chiave:valore e da lì estrarre i singoli valori"
      ],
      "metadata": {
        "id": "MsU46kTU3ZcZ"
      }
    },
    {
      "cell_type": "code",
      "source": [
        "for coppia in elenco_tel.items():\n",
        "  chiave = coppia[0]\n",
        "  valore = coppia[1]\n",
        "  print(\"chiave = \"+str(chiave)+\" ; valore = \"+str(valore))\n",
        "  #print(\"chiave =\", chiave, \"; valore =\", valore)"
      ],
      "metadata": {
        "id": "OsokvoWh3zWZ"
      },
      "execution_count": null,
      "outputs": []
    },
    {
      "cell_type": "markdown",
      "source": [
        "### Esercizio"
      ],
      "metadata": {
        "id": "0DhE-uBU7IsT"
      }
    },
    {
      "cell_type": "markdown",
      "source": [
        "Creare un dizionario che, dato un numero intero `n` letto da tastiera, implementa la funzione f(n) = 2n, ovvero la funzione che associa ad ogni chiave (un intero) il suo doppio. "
      ],
      "metadata": {
        "id": "scq24onT7K8t"
      }
    },
    {
      "cell_type": "code",
      "source": [],
      "metadata": {
        "id": "ifnT1klm7acF"
      },
      "execution_count": null,
      "outputs": []
    },
    {
      "cell_type": "markdown",
      "metadata": {
        "id": "mV-QPGespK-9"
      },
      "source": [
        "#![final_level.png](data:image/png;base64,iVBORw0KGgoAAAANSUhEUgAAAyAAAAC0CAYAAABsb0igAAAABmJLR0QAAAAAAAD5Q7t/AAAACXBIWXMAAC4jAAAuIwF4pT92AAAAB3RJTUUH5QgKDxEGZHZKLAAABRJJREFUeNrt3c1q4lAYgOEvQxAa70aXXkVX9RJ15Q102a0Wei9JIRQyq4EpE6mTP4/J80A3LtqTc5KUFz0xi4gmAAAAJvDLFAAAAAIEAAAQIAAAAAIEAAAQIAAAAAIEAAAQIAAAgAABAAAQIAAAgAABAAAQIAAAgAABAAAECAAAgAABAAAECAAAgAABAAAECAAAIEAAAAAECAAAIEAAAAAECAAAIEAAAAABAgAAIEAAAAABAgAAIEAAAAABAgAACBAAAAABAgAACBAAAAABAgAACBAAAAABAgAACBAAAECAAAAACBAAAECAAAAACBAAAECAAAAAAgQAAECAAAAAAgQAAECAAAAAAgQAABAgAAAAAgQAABAgAAAAAgQAABAgAACAAAEAABAgAACAAAEAABAgAACAAAEAAAQIAACAAAEAAAQIAACAAAEAAAQIAACAAAEAAAQIAAAgQAAAAAQIAAAgQAAAAAQIAAAgQAAAAAECAAAgQAAAAAECAAAgQAAAgLvKTQF01zRNkuPKsmyQcVdVFev12kI/4DmX2to553AeAn94BwQAABAgAACAAAEAABAgAABA+mxChwnUdR2n08lEAAACxBTA+L6+vmK/35sIAGDxfAQLAAAQIAAAgAABAAAQIAAAQPpsQocFyrLMJAAAd+EdEAAAQIAAAAACBAAAQIAAAAACBIiIoiiiaZpeP6+vr4ON59a/WZblYL9rrJ+3t7dB12rKsTO+1NdzyGvxJ2VZjn5uun4AAQIAAAgQAABAgAAAAAgQAABgHnwTOkygrus4nU69fsfHx8fi5+D5+TlWq9W313a7XeuG1K7f9n48Hgc/9rZxR0Scz+d/Xttuty6YBzwPMd/A7bKI8CgJ6OjWJ7FUVRXr9XqW455yDsqyjKIobru5dQyQMQw5bufcvM5D43b9wBL5CBYAACBAAAAAAQIAANCZTegAfzkcDsPfaHO32mT+6eV57zW2nuYb6McmdOjBhuD5bUK/9XhGuynbhD7qJvQlr+c9NnO7foA2PoIFAAAIEAAAQIAAAAAIEAAAIH0eLQEsUqqbfxlXapuL2zZNt50vRVG0nrPXNl2nstnaZm6gjXdAAAAAAQIAAAgQAAAAAQIAAKTPJnRgkY7HY+vrLy8v32+SeR6Hw6HfjTaf/lZ7bdz7/T7tf0odx325XFpf32w2g6/nNUPN7fv7ezw9Pf14LBHxX8fSNkefn5+dxjin+Z7T9QOPIouIxjRAN6k8aeae4071aVLXng401NyMdlPuMO4p5mUMc1vPsee277FMsfaPON+Pev3AI/MRLAAAQIAAAAACBAAAQIAAAADpswkdAACYjHdAAAAAAQIAAAgQAAAAAQIAAAgQAAAAAQIAAAgQAABAgAAAAAgQAABAgAAAAAgQAABAgAAAAAIEAABAgAAAAAIEAABAgAAAAAIEAAAQIAAAAAIEAAAQIAAAAAIEAAAQIAAAgAABAAAQIAAAgAABAAAQIAAAgAABAAAECAAAgAABAAAECAAAgAABAAAECAAAgAABAAAECAAAIEAAAAAECAAAIEAAAAAECAAAIEAAAAABAgAAIEAAAAABAgAAIEAAAAABAgAACBAAAAABAgAACBAAAAABAgAACBAAAECAAAAACBAAAECAAAAACBAAAECAAAAAAgQAAECAAAAAAgQAAECAAAAAAgQAAECAAAAAAgQAABAgAAAAAgQAABAgAAAAAgQAALiL34FKJAxI4m+EAAAAAElFTkSuQmCC)"
      ]
    },
    {
      "cell_type": "markdown",
      "metadata": {
        "id": "2F_w-w15fOoU"
      },
      "source": [
        "# Esercizio\n",
        "Scrivere un programma che implementi un registro elettronico. Il registro è relativo a diversi studenti, ognuno di essi identificato dalla propria matricola universitaria. Per ciascuno di essi si vogliono memorizzare le seguenti informazioni:\n",
        "* nome\n",
        "* cognome\n",
        "* lista degli esami\n",
        "\n",
        "In particolare ciacun esame di questa lista sarà composta da:\n",
        "* nome dell'esame\n",
        "* voto dell'esame\n",
        "* numero di crediti dell'esame\n",
        "\n",
        "Infine per ciascuno degli studenti si vuole calcolare la media aritmetica degli esami"
      ]
    },
    {
      "cell_type": "code",
      "source": [],
      "metadata": {
        "id": "dFvQoz5I-7tt"
      },
      "execution_count": null,
      "outputs": []
    }
  ]
}